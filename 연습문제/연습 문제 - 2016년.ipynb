{
 "cells": [
  {
   "cell_type": "code",
   "execution_count": 77,
   "metadata": {},
   "outputs": [],
   "source": [
    "a = 5\n",
    "b =24\n",
    "c = 0 \n",
    "answer =''"
   ]
  },
  {
   "cell_type": "code",
   "execution_count": 78,
   "metadata": {},
   "outputs": [
    {
     "name": "stdout",
     "output_type": "stream",
     "text": [
      "145\n",
      "TUE\n"
     ]
    }
   ],
   "source": [
    "if a ==1:\n",
    "    c+=b\n",
    "else:\n",
    "    for i in range(1,a):\n",
    "        if i ==1 or i == 3 or i == 5 or i == 7 or i == 8 or i == 10 or i == 12:\n",
    "            c += 31\n",
    "        elif i == 2:\n",
    "            c += 29\n",
    "        else:\n",
    "            c += 30\n",
    "        #print(c)\n",
    "    c += b\n",
    "print(c)\n",
    "if c%7 == 1:\n",
    "    answer = 'FRI'\n",
    "elif c%7 ==2:\n",
    "    answer = 'SAT'\n",
    "elif c%7 ==3:\n",
    "    answer = 'SUN'\n",
    "elif c%7 ==4:\n",
    "    answer = 'MON'\n",
    "elif c%7 ==5:\n",
    "    answer = 'TUE'\n",
    "elif c%7 ==6:\n",
    "    answer = 'WED'\n",
    "elif c%7 == 0:\n",
    "    answer = 'THU'\n",
    "print(answer)"
   ]
  },
  {
   "cell_type": "code",
   "execution_count": null,
   "metadata": {},
   "outputs": [],
   "source": []
  },
  {
   "cell_type": "code",
   "execution_count": null,
   "metadata": {},
   "outputs": [],
   "source": []
  }
 ],
 "metadata": {
  "kernelspec": {
   "display_name": "Python 3",
   "language": "python",
   "name": "python3"
  },
  "language_info": {
   "codemirror_mode": {
    "name": "ipython",
    "version": 3
   },
   "file_extension": ".py",
   "mimetype": "text/x-python",
   "name": "python",
   "nbconvert_exporter": "python",
   "pygments_lexer": "ipython3",
   "version": "3.7.6"
  }
 },
 "nbformat": 4,
 "nbformat_minor": 4
}

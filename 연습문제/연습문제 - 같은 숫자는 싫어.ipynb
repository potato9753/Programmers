{
 "cells": [
  {
   "cell_type": "code",
   "execution_count": 82,
   "metadata": {},
   "outputs": [],
   "source": [
    "def solution(arr):\n",
    "    answer = []\n",
    "    k=0\n",
    "    for i in range(len(arr)-1):\n",
    "        if arr[i]!=arr[i+1]:\n",
    "            answer.append(arr[i])\n",
    "    # [실행] 버튼을 누르면 출력 값을 볼 수 있습니다.\n",
    "    if arr[-1]==arr[-2]:\n",
    "        answer.append(arr[-2])\n",
    "    else:\n",
    "        answer.append(arr[-1])\n",
    "    print('Hello Python')\n",
    "    return answer"
   ]
  }
 ],
 "metadata": {
  "kernelspec": {
   "display_name": "Python 3",
   "language": "python",
   "name": "python3"
  },
  "language_info": {
   "codemirror_mode": {
    "name": "ipython",
    "version": 3
   },
   "file_extension": ".py",
   "mimetype": "text/x-python",
   "name": "python",
   "nbconvert_exporter": "python",
   "pygments_lexer": "ipython3",
   "version": "3.7.6"
  }
 },
 "nbformat": 4,
 "nbformat_minor": 4
}

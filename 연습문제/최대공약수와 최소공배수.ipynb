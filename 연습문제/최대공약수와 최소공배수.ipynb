{
 "cells": [
  {
   "cell_type": "code",
   "execution_count": 117,
   "metadata": {},
   "outputs": [],
   "source": [
    "n=12\n",
    "m=3\n",
    "a=0\n",
    "b=0\n",
    "answer = []\n",
    "answer1 = []"
   ]
  },
  {
   "cell_type": "code",
   "execution_count": 118,
   "metadata": {},
   "outputs": [
    {
     "data": {
      "text/plain": [
       "'if n>=m:\\n    a=m\\n    m=n\\n    n=a\\n    b=m%n\\nif b == 0:\\n    answer[0] = n\\n    answer[1] = int((n*m)/answer[0])\\nelse:\\n    while(b==0):\\n        m=n\\n        n=b\\n        b=m%n\\n        answer[0] = n\\n        answer[1] = int((n*m)/answer[0])\\n        break\\n        '"
      ]
     },
     "execution_count": 118,
     "metadata": {},
     "output_type": "execute_result"
    }
   ],
   "source": [
    "\"\"\"if n>=m:\n",
    "    a=m\n",
    "    m=n\n",
    "    n=a\n",
    "    b=m%n\n",
    "if b == 0:\n",
    "    answer[0] = n\n",
    "    answer[1] = int((n*m)/answer[0])\n",
    "else:\n",
    "    while(b==0):\n",
    "        m=n\n",
    "        n=b\n",
    "        b=m%n\n",
    "        answer[0] = n\n",
    "        answer[1] = int((n*m)/answer[0])\n",
    "        break\n",
    "        \"\"\""
   ]
  },
  {
   "cell_type": "code",
   "execution_count": 119,
   "metadata": {},
   "outputs": [],
   "source": [
    "if n>=m:\n",
    "    a=m\n",
    "    m=n\n",
    "    n=a\n",
    "    #b=m%n\n",
    "for i in range(m+1):\n",
    "    if n%(i+1) == 0 and m%(i+1) == 0:\n",
    "        answer1.append(i+1)\n",
    "    else:\n",
    "        pass\n",
    "answer.append(max(answer1))\n",
    "answer1.clear()\n",
    "for i in range(n*m):\n",
    "    if (i+1)%n == 0 and (i+1)%m==0:\n",
    "        answer1.append(i+1)\n",
    "    else:\n",
    "        pass\n",
    "answer.append(min(answer1))"
   ]
  },
  {
   "cell_type": "code",
   "execution_count": 120,
   "metadata": {},
   "outputs": [
    {
     "name": "stdout",
     "output_type": "stream",
     "text": [
      "[3, 12]\n"
     ]
    }
   ],
   "source": [
    "print(answer)"
   ]
  },
  {
   "cell_type": "code",
   "execution_count": 98,
   "metadata": {},
   "outputs": [
    {
     "name": "stdout",
     "output_type": "stream",
     "text": [
      "1\n"
     ]
    }
   ],
   "source": [
    "k = 3%2\n",
    "print(k)"
   ]
  },
  {
   "cell_type": "code",
   "execution_count": null,
   "metadata": {},
   "outputs": [],
   "source": []
  }
 ],
 "metadata": {
  "kernelspec": {
   "display_name": "Python 3",
   "language": "python",
   "name": "python3"
  },
  "language_info": {
   "codemirror_mode": {
    "name": "ipython",
    "version": 3
   },
   "file_extension": ".py",
   "mimetype": "text/x-python",
   "name": "python",
   "nbconvert_exporter": "python",
   "pygments_lexer": "ipython3",
   "version": "3.7.6"
  }
 },
 "nbformat": 4,
 "nbformat_minor": 4
}

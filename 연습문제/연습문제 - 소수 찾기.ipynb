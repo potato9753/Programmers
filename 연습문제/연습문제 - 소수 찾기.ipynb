{
 "cells": [
  {
   "cell_type": "code",
   "execution_count": 82,
   "metadata": {},
   "outputs": [],
   "source": [
    "n1=10"
   ]
  },
  {
   "cell_type": "code",
   "execution_count": 19,
   "metadata": {},
   "outputs": [],
   "source": [
    "n=10\n",
    "answer = 0 \n",
    "answer_dic = {}"
   ]
  },
  {
   "cell_type": "code",
   "execution_count": 25,
   "metadata": {},
   "outputs": [
    {
     "name": "stdout",
     "output_type": "stream",
     "text": [
      "4\n"
     ]
    }
   ],
   "source": [
    "for i in range(2,n+1):\n",
    "    answer_dic[i] = True\n",
    "for i in range(2,int(n**0.5)+1):\n",
    "    for j in range(i+i,n+1,i):\n",
    "            \n",
    "        if j%i == 0:\n",
    "            answer_dic[j]=False\n",
    "        \n",
    "print(len([i for i in answer_dic.values() if i]))\n"
   ]
  },
  {
   "cell_type": "code",
   "execution_count": 17,
   "metadata": {},
   "outputs": [
    {
     "name": "stdout",
     "output_type": "stream",
     "text": [
      "{2: True, 3: True, 4: False, 5: True, 6: False, 7: True, 8: False, 9: False, 10: False}\n"
     ]
    }
   ],
   "source": [
    "print(answer_dic)"
   ]
  }
 ],
 "metadata": {
  "kernelspec": {
   "display_name": "Python 3",
   "language": "python",
   "name": "python3"
  },
  "language_info": {
   "codemirror_mode": {
    "name": "ipython",
    "version": 3
   },
   "file_extension": ".py",
   "mimetype": "text/x-python",
   "name": "python",
   "nbconvert_exporter": "python",
   "pygments_lexer": "ipython3",
   "version": "3.7.6"
  }
 },
 "nbformat": 4,
 "nbformat_minor": 4
}

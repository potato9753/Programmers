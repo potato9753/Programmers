{
 "cells": [
  {
   "cell_type": "code",
   "execution_count": 58,
   "metadata": {},
   "outputs": [],
   "source": [
    "def solution(arr, divisor):\n",
    "    answer= []\n",
    "    k=0\n",
    "    for i in range(len(arr)):\n",
    "        if arr[i]%divisor==0:\n",
    "            answer.append(arr[i])        \n",
    "    if len(answer)==0:\n",
    "        answer =  [-1]\n",
    "    answer.sort()\n",
    "    return answer\n",
    "            "
   ]
  }
 ],
 "metadata": {
  "kernelspec": {
   "display_name": "Python 3",
   "language": "python",
   "name": "python3"
  },
  "language_info": {
   "codemirror_mode": {
    "name": "ipython",
    "version": 3
   },
   "file_extension": ".py",
   "mimetype": "text/x-python",
   "name": "python",
   "nbconvert_exporter": "python",
   "pygments_lexer": "ipython3",
   "version": "3.7.6"
  }
 },
 "nbformat": 4,
 "nbformat_minor": 4
}

{
 "cells": [
  {
   "cell_type": "code",
   "execution_count": 62,
   "metadata": {},
   "outputs": [],
   "source": [
    "def solution(s):\n",
    "    answer = True\n",
    "    s=s.upper()\n",
    "    list_s=list(s)\n",
    "    a=b=0\n",
    "    for i in range(len(list_s)):\n",
    "        if list_s[i]=='P':\n",
    "            a+=1\n",
    "        else:\n",
    "            if list_s[i]=='Y':\n",
    "                b+=1\n",
    "    if a==b:\n",
    "        answer=True\n",
    "    else:\n",
    "        answer=False\n",
    "    return answer"
   ]
  },
  {
   "cell_type": "code",
   "execution_count": 63,
   "metadata": {},
   "outputs": [],
   "source": [
    "def solution(s):\n",
    "    answer = True\n",
    "    s=s.upper()\n",
    "    if s.count('P')==s.count('Y'):\n",
    "        answer = True\n",
    "    else:\n",
    "        answer = False\n",
    "    return answer"
   ]
  },
  {
   "cell_type": "code",
   "execution_count": null,
   "metadata": {},
   "outputs": [],
   "source": []
  }
 ],
 "metadata": {
  "kernelspec": {
   "display_name": "Python 3",
   "language": "python",
   "name": "python3"
  },
  "language_info": {
   "codemirror_mode": {
    "name": "ipython",
    "version": 3
   },
   "file_extension": ".py",
   "mimetype": "text/x-python",
   "name": "python",
   "nbconvert_exporter": "python",
   "pygments_lexer": "ipython3",
   "version": "3.7.6"
  }
 },
 "nbformat": 4,
 "nbformat_minor": 4
}

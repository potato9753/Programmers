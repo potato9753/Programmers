{
 "cells": [
  {
   "cell_type": "code",
   "execution_count": null,
   "metadata": {},
   "outputs": [],
   "source": [
    "def solution(dartResult):\n",
    "    answer = 0\n",
    "    answer_ = []\n",
    "    for i in range(len(dartResult)):\n",
    "        if dartResult[i] == '0':\n",
    "            if dartResult[i-1] == '1':\n",
    "                answer_[-1] = 10\n",
    "            else:\n",
    "                answer_.append(0)\n",
    "        if dartResult[i] == '1' :\n",
    "            answer_.append(1)\n",
    "        if dartResult[i] == '2':\n",
    "            answer_.append(2)\n",
    "        if dartResult[i] == '3':\n",
    "            answer_.append(3)\n",
    "        if dartResult[i] == '4':\n",
    "            answer_.append(4)\n",
    "        if dartResult[i] == '5':\n",
    "            answer_.append(5)\n",
    "        if dartResult[i] == '6':\n",
    "            answer_.append(6)\n",
    "        if dartResult[i] == '7':\n",
    "            answer_.append(7)\n",
    "        if dartResult[i] == '8':\n",
    "            answer_.append(8)\n",
    "        if dartResult[i] == '9':\n",
    "            answer_.append(9)\n",
    "        if dartResult[i] == 'S':\n",
    "            answer_[-1] = answer_[-1] ** 1\n",
    "        if dartResult[i] == 'D':\n",
    "            answer_[-1] = answer_[-1] ** 2\n",
    "        if dartResult[i] == 'T':\n",
    "            answer_[-1] = answer_[-1] ** 3\n",
    "        if dartResult[i] == '*':\n",
    "            if len(answer_) >= 2:\n",
    "                answer_[-1] = answer_[-1] *2\n",
    "                answer_[-2] = answer_[-2] *2         \n",
    "            else:\n",
    "                answer_[-1] = answer_[-1] *2\n",
    "        if dartResult[i] == '#':\n",
    "            answer_[-1] = answer_[-1] * (-1)\n",
    "    #print(answer_)\n",
    "    for i in range(len(answer_)):\n",
    "        answer += answer_[i] \n",
    "    return answer"
   ]
  }
 ],
 "metadata": {
  "kernelspec": {
   "display_name": "Python 3",
   "language": "python",
   "name": "python3"
  },
  "language_info": {
   "codemirror_mode": {
    "name": "ipython",
    "version": 3
   },
   "file_extension": ".py",
   "mimetype": "text/x-python",
   "name": "python",
   "nbconvert_exporter": "python",
   "pygments_lexer": "ipython3",
   "version": "3.7.6"
  }
 },
 "nbformat": 4,
 "nbformat_minor": 4
}

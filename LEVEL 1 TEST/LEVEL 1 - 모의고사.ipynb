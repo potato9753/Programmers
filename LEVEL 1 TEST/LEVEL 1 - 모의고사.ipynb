{
 "cells": [
  {
   "cell_type": "code",
   "execution_count": 93,
   "metadata": {},
   "outputs": [],
   "source": [
    "answers = [1,2,3,4,5]\n",
    "list_1 = []\n",
    "list_2 = [2,1,2,3,2,4,2,5]\n",
    "list_3 = [3,3,1,1,2,2,4,4,5,5]\n",
    "list1=0\n",
    "list2=0\n",
    "list3=0\n",
    "answer = []"
   ]
  },
  {
   "cell_type": "code",
   "execution_count": 94,
   "metadata": {},
   "outputs": [],
   "source": [
    "for i in range(len(answers)):\n",
    "    list_1.append((i%5)+1)\n",
    "    if i>= 8:\n",
    "        #if i%2 == 0:\n",
    "        #    list_2.append(2)\n",
    "        #else:\n",
    "        list_2.append(list_2[(i%8)])\n",
    "    if i >=10:\n",
    "        list_3.append(list_3[(i%10)])\n",
    "    if answers[i] == list_1[i]:\n",
    "        list1+=1\n",
    "    if answers[i] == list_2[i]:\n",
    "        list2+=1\n",
    "    if answers[i] == list_3[i]:\n",
    "        list3+=1\n",
    "if max(list1,list2,list3) == list1:\n",
    "    answer.append(1)\n",
    "if max(list1,list2,list3) == list2:\n",
    "    answer.append(2)\n",
    "if max(list1,list2,list3) == list3:\n",
    "    answer.append(3)"
   ]
  },
  {
   "cell_type": "code",
   "execution_count": 95,
   "metadata": {},
   "outputs": [
    {
     "name": "stdout",
     "output_type": "stream",
     "text": [
      "5\n",
      "0\n",
      "0\n",
      "[1]\n"
     ]
    }
   ],
   "source": [
    "print(list1)\n",
    "print(list2)\n",
    "print(list3)\n",
    "print(answer)"
   ]
  },
  {
   "cell_type": "code",
   "execution_count": null,
   "metadata": {},
   "outputs": [],
   "source": []
  }
 ],
 "metadata": {
  "kernelspec": {
   "display_name": "Python 3",
   "language": "python",
   "name": "python3"
  },
  "language_info": {
   "codemirror_mode": {
    "name": "ipython",
    "version": 3
   },
   "file_extension": ".py",
   "mimetype": "text/x-python",
   "name": "python",
   "nbconvert_exporter": "python",
   "pygments_lexer": "ipython3",
   "version": "3.7.6"
  }
 },
 "nbformat": 4,
 "nbformat_minor": 4
}

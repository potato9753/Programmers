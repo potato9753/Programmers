{
 "cells": [
  {
   "cell_type": "code",
   "execution_count": 6,
   "metadata": {},
   "outputs": [
    {
     "name": "stdout",
     "output_type": "stream",
     "text": [
      "[[0, 0, 0, 0, 0], [0, 0, 1, 0, 3], [0, 2, 5, 0, 1], [4, 2, 4, 4, 2], [3, 5, 1, 3, 1]]\n",
      "[[3, 4], [5, 2, 2], [1, 4, 5, 1], [3, 4], [1, 2, 1, 3]]\n",
      "[[3, 4, 0, 0, 0], [5, 2, 2, 0, 0], [1, 4, 5, 1, 0], [3, 4, 0, 0, 0], [1, 2, 1, 3, 0]]\n"
     ]
    }
   ],
   "source": [
    "board = [[0,0,0,0,0],[0,0,1,0,3],[0,2,5,0,1],[4,2,4,4,2],[3,5,1,3,1]]\n",
    "reverse = [[board[i][j] for i in reversed(range(len(board))) if board[i][j] != 0] for j in range(len(board[0]))]\n",
    "reverse1= [[board[i][j] for i in reversed(range(len(board)))] for j in range(len(board[0]))]\n",
    "print(board)\n",
    "print(reverse)\n",
    "print(reverse1)"
   ]
  },
  {
   "cell_type": "code",
   "execution_count": null,
   "metadata": {},
   "outputs": [],
   "source": [
    "def solution(board, moves):\n",
    "    answer = 0\n",
    "    a = 0 \n",
    "    answer_ = []\n",
    "    reverse = [[board[i][j] for i in reversed(range(len(board))) if board[i][j] != 0] for j in range(len(board[0]))]\n",
    "    for i in range(len(moves)):\n",
    "        a = moves[i]\n",
    "        for j in range(len(reverse[a-1]),0,-1):\n",
    "            if reverse[a-1][j-1] == 0 :\n",
    "                break\n",
    "            elif reverse[a-1][j-1]!=0:\n",
    "                answer_.append(reverse[a-1].pop())\n",
    "                #print(answer_)\n",
    "                break\n",
    "            else:\n",
    "                pass\n",
    "        #if answer\n",
    "        if len(answer_)>=2:\n",
    "            if answer_[-1] == answer_[-2]:\n",
    "                del(answer_[-1])\n",
    "                del(answer_[-1])\n",
    "                answer +=2\n",
    "    return answer"
   ]
  },
  {
   "cell_type": "code",
   "execution_count": null,
   "metadata": {},
   "outputs": [],
   "source": []
  },
  {
   "cell_type": "code",
   "execution_count": null,
   "metadata": {},
   "outputs": [],
   "source": []
  }
 ],
 "metadata": {
  "kernelspec": {
   "display_name": "Python 3",
   "language": "python",
   "name": "python3"
  },
  "language_info": {
   "codemirror_mode": {
    "name": "ipython",
    "version": 3
   },
   "file_extension": ".py",
   "mimetype": "text/x-python",
   "name": "python",
   "nbconvert_exporter": "python",
   "pygments_lexer": "ipython3",
   "version": "3.8.3"
  }
 },
 "nbformat": 4,
 "nbformat_minor": 4
}

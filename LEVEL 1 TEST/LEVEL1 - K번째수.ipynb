{
 "cells": [
  {
   "cell_type": "code",
   "execution_count": 31,
   "metadata": {},
   "outputs": [],
   "source": [
    "array = [1,5,2,6,3,7,4]\n",
    "commands = [[2,5,3],[4,4,1],[1,7,3]]\n",
    "answer = []\n",
    "array_ = []\n",
    "a = 0\n",
    "b = 0\n",
    "c = 0"
   ]
  },
  {
   "cell_type": "code",
   "execution_count": 32,
   "metadata": {},
   "outputs": [
    {
     "name": "stdout",
     "output_type": "stream",
     "text": [
      "3\n",
      "1\n",
      "3\n",
      "[5, 6, 3]\n"
     ]
    }
   ],
   "source": [
    "for i in range(len(commands)):\n",
    "    for j in range(3):\n",
    "        if j==0:\n",
    "            a=commands[i][j]-1\n",
    "        elif j ==1:\n",
    "            b=commands[i][j]\n",
    "        else:\n",
    "            c=commands[i][j]\n",
    "            print(c)\n",
    "    array_=array[a:b]\n",
    "    array_.sort()\n",
    "    answer.append(array_[c-1])\n",
    "print(answer)"
   ]
  },
  {
   "cell_type": "code",
   "execution_count": null,
   "metadata": {},
   "outputs": [],
   "source": []
  }
 ],
 "metadata": {
  "kernelspec": {
   "display_name": "Python 3",
   "language": "python",
   "name": "python3"
  },
  "language_info": {
   "codemirror_mode": {
    "name": "ipython",
    "version": 3
   },
   "file_extension": ".py",
   "mimetype": "text/x-python",
   "name": "python",
   "nbconvert_exporter": "python",
   "pygments_lexer": "ipython3",
   "version": "3.7.6"
  }
 },
 "nbformat": 4,
 "nbformat_minor": 4
}

{
 "cells": [
  {
   "cell_type": "code",
   "execution_count": 48,
   "metadata": {},
   "outputs": [
    {
     "name": "stdout",
     "output_type": "stream",
     "text": [
      "7\n"
     ]
    }
   ],
   "source": [
    "dartResult = '1S2D*3T'\n",
    "answer = 0\n",
    "answer_= []\n",
    "print(len(dartResult))\n",
    "print(dartResult)"
   ]
  },
  {
   "cell_type": "code",
   "execution_count": 49,
   "metadata": {},
   "outputs": [
    {
     "name": "stdout",
     "output_type": "stream",
     "text": [
      "[]\n",
      "[]\n",
      "[]\n",
      "[]\n",
      "[]\n",
      "[]\n",
      "[]\n"
     ]
    }
   ],
   "source": [
    "for i in range(len(dartResult)):\n",
    "    print(answer_)\n",
    "    if dartResult[i] == 0 :\n",
    "        pass\n",
    "    if dartResult[i] == 1 :\n",
    "        if dartResult[i+1] == 0:\n",
    "            answer_.append(10) \n",
    "        else:\n",
    "            answer_.append(1) \n",
    "    if dartResult[i] == 2:\n",
    "        answer_.append(2)\n",
    "    if dartResult[i] == 3:\n",
    "        answer_.append(3)\n",
    "    if dartResult[i] == 4:\n",
    "        answer_.append(4)\n",
    "    if dartResult[i] == 5:\n",
    "        answer_.append(5)\n",
    "    if dartResult[i] == 6:\n",
    "        answer_.append(6)\n",
    "    if dartResult[i] == 7:\n",
    "        answer_.append(7)\n",
    "    if dartResult[i] == 8:\n",
    "        answer_.append(8)\n",
    "    if dartResult[i] == 9:\n",
    "        answer_.append(9)\n",
    "    '''elif dartResult[i] == 's':\n",
    "        answer  = answer_\n",
    "        answer_ = 0\n",
    "    elif dartResult[i] == 'd':\n",
    "        answer  = answer_ ** 2\n",
    "        answer_ = 0\n",
    "    elif dartResult[i] == 't':\n",
    "        answer  = answer_ **3\n",
    "        answer_ = 0'''"
   ]
  },
  {
   "cell_type": "code",
   "execution_count": 12,
   "metadata": {},
   "outputs": [
    {
     "name": "stdout",
     "output_type": "stream",
     "text": [
      "[]\n"
     ]
    }
   ],
   "source": [
    "print(answer_)"
   ]
  },
  {
   "cell_type": "code",
   "execution_count": null,
   "metadata": {},
   "outputs": [],
   "source": []
  }
 ],
 "metadata": {
  "kernelspec": {
   "display_name": "Python 3",
   "language": "python",
   "name": "python3"
  },
  "language_info": {
   "codemirror_mode": {
    "name": "ipython",
    "version": 3
   },
   "file_extension": ".py",
   "mimetype": "text/x-python",
   "name": "python",
   "nbconvert_exporter": "python",
   "pygments_lexer": "ipython3",
   "version": "3.7.6"
  }
 },
 "nbformat": 4,
 "nbformat_minor": 4
}

{
 "cells": [
  {
   "cell_type": "code",
   "execution_count": 54,
   "metadata": {},
   "outputs": [
    {
     "name": "stdout",
     "output_type": "stream",
     "text": [
      "7\n",
      "S\n"
     ]
    }
   ],
   "source": [
    "dartResult = '1S2D*3T'\n",
    "answer = 0\n",
    "answer_= []\n",
    "print(len(dartResult))\n",
    "print(dartResult[1])"
   ]
  },
  {
   "cell_type": "code",
   "execution_count": 55,
   "metadata": {},
   "outputs": [],
   "source": [
    "for i in range(len(dartResult)):\n",
    "    if dartResult[i] == '1' :\n",
    "        if dartResult[i+1] == 0:\n",
    "            answer_.append(10) \n",
    "        else:\n",
    "            answer_.append(1)\n",
    "            pass\n",
    "    if dartResult[i] == '2':\n",
    "        answer_.append(2)\n",
    "    if dartResult[i] == '3':\n",
    "        answer_.append(3)\n",
    "    if dartResult[i] == '4':\n",
    "        answer_.append(4)\n",
    "    if dartResult[i] == '5':\n",
    "        answer_.append(5)\n",
    "    if dartResult[i] == '6':\n",
    "        answer_.append(6)\n",
    "    if dartResult[i] == '7':\n",
    "        answer_.append(7)\n",
    "    if dartResult[i] == '8':\n",
    "        answer_.append(8)\n",
    "    if dartResult[i] == '9':\n",
    "        answer_.append(9)\n",
    "    if dartResult[i] == 's':\n",
    "        answer_.append(answer_[i-1] ** 1)\n",
    "    if dartResult[i] == 'd':\n",
    "        answer_.append(answer_[i-1] ** 2)\n",
    "    if dartResult[i] == 't':\n",
    "        answer_.append(answer_[i-1] ** 3)"
   ]
  },
  {
   "cell_type": "code",
   "execution_count": 56,
   "metadata": {},
   "outputs": [
    {
     "name": "stdout",
     "output_type": "stream",
     "text": [
      "[1, 2, 3]\n"
     ]
    }
   ],
   "source": [
    "print(answer_)"
   ]
  },
  {
   "cell_type": "code",
   "execution_count": null,
   "metadata": {},
   "outputs": [],
   "source": []
  }
 ],
 "metadata": {
  "kernelspec": {
   "display_name": "Python 3",
   "language": "python",
   "name": "python3"
  },
  "language_info": {
   "codemirror_mode": {
    "name": "ipython",
    "version": 3
   },
   "file_extension": ".py",
   "mimetype": "text/x-python",
   "name": "python",
   "nbconvert_exporter": "python",
   "pygments_lexer": "ipython3",
   "version": "3.7.6"
  }
 },
 "nbformat": 4,
 "nbformat_minor": 4
}

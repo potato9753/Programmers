{
 "cells": [
  {
   "cell_type": "code",
   "execution_count": 1,
   "metadata": {
    "scrolled": true
   },
   "outputs": [],
   "source": [
    "n=5\n",
    "arr1=[9,20,28,18,11]\n",
    "arr2=[30,1,21,17,28]\n",
    "arr1_ = []\n",
    "arr2_ = []\n",
    "answer = []\n",
    "answer1 = []\n",
    "for i in range(n):\n",
    "    arr1_.append(format(arr1[i], 'b').zfill(n))\n",
    "    arr2_.append(format(arr2[i], 'b').zfill(n))"
   ]
  },
  {
   "cell_type": "code",
   "execution_count": 2,
   "metadata": {},
   "outputs": [
    {
     "name": "stdout",
     "output_type": "stream",
     "text": [
      "['01001', '10100', '11100', '10010', '01011']\n",
      "['11110', '00001', '10101', '10001', '11100']\n",
      "0\n"
     ]
    }
   ],
   "source": [
    "\n",
    "print(arr1_)\n",
    "print(arr2_)\n",
    "print(int(arr1_[1][1]+arr2_[1][1]))"
   ]
  },
  {
   "cell_type": "code",
   "execution_count": 3,
   "metadata": {},
   "outputs": [],
   "source": [
    "for i in range(n):\n",
    "    answer1=''\n",
    "    for j in range(n):\n",
    "        if int(arr1_[i][j] + arr2_[i][j]) == 0:\n",
    "            #answer.insert([i][j], ' ')\n",
    "            #answer.append[i][j](' ')\n",
    "            answer1+=' '\n",
    "            continue\n",
    "        else:\n",
    "            #answer.insert([i][j], '#')\n",
    "            #answer.append[i][j]('#')\n",
    "            answer1+='#'\n",
    "    answer.append(answer1)"
   ]
  },
  {
   "cell_type": "code",
   "execution_count": 4,
   "metadata": {},
   "outputs": [
    {
     "name": "stdout",
     "output_type": "stream",
     "text": [
      "['#####', '# # #', '### #', '#  ##', '#####']\n"
     ]
    }
   ],
   "source": [
    "print(answer)"
   ]
  },
  {
   "cell_type": "code",
   "execution_count": 115,
   "metadata": {},
   "outputs": [
    {
     "data": {
      "text/plain": [
       "['####', '# # ', '### ', '#  #']"
      ]
     },
     "execution_count": 115,
     "metadata": {},
     "output_type": "execute_result"
    }
   ],
   "source": [
    "answer"
   ]
  },
  {
   "cell_type": "code",
   "execution_count": null,
   "metadata": {},
   "outputs": [],
   "source": []
  }
 ],
 "metadata": {
  "kernelspec": {
   "display_name": "Python 3",
   "language": "python",
   "name": "python3"
  },
  "language_info": {
   "codemirror_mode": {
    "name": "ipython",
    "version": 3
   },
   "file_extension": ".py",
   "mimetype": "text/x-python",
   "name": "python",
   "nbconvert_exporter": "python",
   "pygments_lexer": "ipython3",
   "version": "3.7.6"
  }
 },
 "nbformat": 4,
 "nbformat_minor": 4
}

{
 "cells": [
  {
   "cell_type": "code",
   "execution_count": 92,
   "metadata": {},
   "outputs": [],
   "source": [
    "#citations = [3,0,6,1,5]\n",
    "#citations = [12,11,10,9,8,1]\n",
    "#citations = [6,6,6,6,6,1]\n",
    "#citations = [20,21,22,23]\n",
    "citations = [4,4,4]\n",
    "answer = 0"
   ]
  },
  {
   "cell_type": "code",
   "execution_count": 93,
   "metadata": {},
   "outputs": [
    {
     "name": "stdout",
     "output_type": "stream",
     "text": [
      "1 3 0 0\n",
      "2 3 0 0\n",
      "3 3 0 0\n",
      "4 0 0 3\n",
      "3\n"
     ]
    }
   ],
   "source": [
    "for i in range(1,1001):\n",
    "    up_cnt = 0 \n",
    "    down_cnt = 0\n",
    "    same_cnt = 0\n",
    "    for j in range(len(citations)):\n",
    "        if i < citations[j]:\n",
    "                up_cnt +=1\n",
    "        elif i == citations[j]:\n",
    "            same_cnt += 1\n",
    "        else:\n",
    "            down_cnt+=1\n",
    "    print(i,up_cnt,down_cnt,same_cnt)\n",
    "    if up_cnt >= down_cnt and up_cnt >= i:\n",
    "        if answer < i:\n",
    "            answer = i\n",
    "    elif up_cnt + same_cnt >= down_cnt and up_cnt + same_cnt >= i :\n",
    "        if answer < i:\n",
    "            answer = i\n",
    "    if up_cnt == 0:\n",
    "        break\n",
    "print(answer)"
   ]
  },
  {
   "cell_type": "code",
   "execution_count": 64,
   "metadata": {},
   "outputs": [
    {
     "name": "stdout",
     "output_type": "stream",
     "text": [
      "9\n"
     ]
    }
   ],
   "source": [
    "print(answer)"
   ]
  },
  {
   "cell_type": "code",
   "execution_count": null,
   "metadata": {},
   "outputs": [],
   "source": []
  }
 ],
 "metadata": {
  "kernelspec": {
   "display_name": "Python 3",
   "language": "python",
   "name": "python3"
  },
  "language_info": {
   "codemirror_mode": {
    "name": "ipython",
    "version": 3
   },
   "file_extension": ".py",
   "mimetype": "text/x-python",
   "name": "python",
   "nbconvert_exporter": "python",
   "pygments_lexer": "ipython3",
   "version": "3.8.3"
  }
 },
 "nbformat": 4,
 "nbformat_minor": 4
}

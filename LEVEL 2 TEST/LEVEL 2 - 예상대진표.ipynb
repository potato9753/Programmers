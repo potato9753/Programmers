{
 "cells": [
  {
   "cell_type": "code",
   "execution_count": null,
   "metadata": {},
   "outputs": [],
   "source": [
    "def solution(n,a,b):\n",
    "    comp = []\n",
    "    round_=0\n",
    "    for i in range(n):\n",
    "        comp.append(i+1)\n",
    "    while(True):\n",
    "        arr=[]\n",
    "        for i in range(0,len(comp),2):\n",
    "            if comp[i] == a and comp[i+1] == b:\n",
    "                break\n",
    "            elif comp[i] == b and comp[i+1] == a:\n",
    "                break\n",
    "            elif comp[i] == a or comp[i] == b:\n",
    "                arr.append(comp[i])\n",
    "            elif comp[i+1] == a or comp[i+1] == b:\n",
    "                arr.append(comp[i+1])\n",
    "            else:\n",
    "                arr.append(comp[i])\n",
    "        round_+=1\n",
    "        if len(arr) != len(comp)/2:\n",
    "            break\n",
    "        else:\n",
    "            comp = arr\n",
    "    return round_"
   ]
  }
 ],
 "metadata": {
  "kernelspec": {
   "display_name": "Python 3",
   "language": "python",
   "name": "python3"
  },
  "language_info": {
   "codemirror_mode": {
    "name": "ipython",
    "version": 3
   },
   "file_extension": ".py",
   "mimetype": "text/x-python",
   "name": "python",
   "nbconvert_exporter": "python",
   "pygments_lexer": "ipython3",
   "version": "3.8.3"
  }
 },
 "nbformat": 4,
 "nbformat_minor": 4
}

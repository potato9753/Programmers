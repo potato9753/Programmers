{
 "cells": [
  {
   "cell_type": "code",
   "execution_count": 28,
   "metadata": {},
   "outputs": [],
   "source": [
    "#heights = [6,9,5,7,4]\n",
    "#heights = [3,9,9,3,5,7,2]\n",
    "#answer = [0 for i in range(len(heights))]\n",
    "heights = []\n",
    "answer = [0]*len(heights)"
   ]
  },
  {
   "cell_type": "code",
   "execution_count": 29,
   "metadata": {},
   "outputs": [],
   "source": [
    "#heights.reverse()"
   ]
  },
  {
   "cell_type": "code",
   "execution_count": 30,
   "metadata": {},
   "outputs": [
    {
     "name": "stdout",
     "output_type": "stream",
     "text": [
      "[3, 9, 9, 3, 5, 7, 2]\n"
     ]
    }
   ],
   "source": [
    "print(heights)"
   ]
  },
  {
   "cell_type": "code",
   "execution_count": 31,
   "metadata": {},
   "outputs": [],
   "source": [
    "for i in range(len(heights)-1,0,-1):\n",
    "    for j in range(i-1,-1,-1):\n",
    "        if heights[i] < heights[j]:\n",
    "            answer[i] = j+1\n",
    "            break\n",
    "        #if heights[i+1] >= max(heights):\n",
    "        #   answer.append(0)\n",
    "#while len(answer) <= len(heights)-1:\n",
    "#    answer.append(0)"
   ]
  },
  {
   "cell_type": "code",
   "execution_count": 33,
   "metadata": {},
   "outputs": [
    {
     "name": "stdout",
     "output_type": "stream",
     "text": [
      "[0, 0, 0, 3, 3, 3, 6]\n"
     ]
    }
   ],
   "source": [
    "print(answer)"
   ]
  },
  {
   "cell_type": "code",
   "execution_count": 34,
   "metadata": {},
   "outputs": [
    {
     "name": "stdout",
     "output_type": "stream",
     "text": [
      "[0, 0, 0, 3, 3, 3, 6]\n"
     ]
    }
   ],
   "source": [
    "answer = [0]*len(heights)\n",
    "for i in range(len(heights)-1,0,-1):\n",
    "    for j in range(i-1,-1,-1):\n",
    "        if heights[i] < heights[j]:\n",
    "            answer[i] = j+1\n",
    "            break\n",
    "print(answer)"
   ]
  },
  {
   "cell_type": "code",
   "execution_count": null,
   "metadata": {},
   "outputs": [],
   "source": []
  }
 ],
 "metadata": {
  "kernelspec": {
   "display_name": "Python 3",
   "language": "python",
   "name": "python3"
  },
  "language_info": {
   "codemirror_mode": {
    "name": "ipython",
    "version": 3
   },
   "file_extension": ".py",
   "mimetype": "text/x-python",
   "name": "python",
   "nbconvert_exporter": "python",
   "pygments_lexer": "ipython3",
   "version": "3.7.6"
  }
 },
 "nbformat": 4,
 "nbformat_minor": 4
}

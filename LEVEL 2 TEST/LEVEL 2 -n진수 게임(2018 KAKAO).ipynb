{
 "cells": [
  {
   "cell_type": "code",
   "execution_count": null,
   "metadata": {},
   "outputs": [],
   "source": [
    "#N진수 변환 함수\n",
    "def change(n,i):\n",
    "    Nums = \"0123456789ABCDEFGHIJKLMNOPQRSTUVWXYZ\"\n",
    "    str_ = \"\"\n",
    "    if n == 0:\n",
    "        return '0'\n",
    "    while n != 0:\n",
    "        if n % i == 0:\n",
    "            str_ += \"0\"\n",
    "        else:\n",
    "            str_ += str(Nums[n%i])\n",
    "        n = n // i\n",
    "    return(str_)[::-1]\n",
    "\n",
    "def solution(n, t, m, p):\n",
    "    answer = ''\n",
    "    turn = 1\n",
    "    answer=''\n",
    "    num = 0\n",
    "    \n",
    "    while(t>0):\n",
    "        str1 = change(num,n)\n",
    "        num+=1\n",
    "\n",
    "        for i in range(len(str1)):\n",
    "            if turn%m == 0 and m==p:\n",
    "                answer+=str1[i]\n",
    "                t-=1\n",
    "            elif turn%m == p:\n",
    "                answer+=str1[i]\n",
    "                t-=1\n",
    "            if t<=0:\n",
    "                break\n",
    "            turn+=1\n",
    "    return answer"
   ]
  }
 ],
 "metadata": {
  "kernelspec": {
   "display_name": "Python 3",
   "language": "python",
   "name": "python3"
  },
  "language_info": {
   "codemirror_mode": {
    "name": "ipython",
    "version": 3
   },
   "file_extension": ".py",
   "mimetype": "text/x-python",
   "name": "python",
   "nbconvert_exporter": "python",
   "pygments_lexer": "ipython3",
   "version": "3.8.3"
  }
 },
 "nbformat": 4,
 "nbformat_minor": 4
}

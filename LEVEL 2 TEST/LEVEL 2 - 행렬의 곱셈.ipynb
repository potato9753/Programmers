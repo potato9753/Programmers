{
 "cells": [
  {
   "cell_type": "code",
   "execution_count": 76,
   "metadata": {},
   "outputs": [
    {
     "name": "stdout",
     "output_type": "stream",
     "text": [
      "[[5, 2, 3], [4, 4, 1], [3, 1, 1]]\n"
     ]
    }
   ],
   "source": [
    "arr1 = [[2, 3, 2], [4, 2, 4], [3, 1, 4]]\n",
    "arr2 = [[5, 4, 3], [2, 4, 1], [3, 1, 1]]\n",
    "#arr1 = [[1, 4], [3, 2], [4, 1]]\n",
    "#arr2 = [[3, 3], [3, 3]]\n",
    "reverse1= [[arr2[i][j] for i in (range(len(arr2)))] for j in range(len(arr2[0]))]\n",
    "answer = []\n",
    "print(reverse1)"
   ]
  },
  {
   "cell_type": "code",
   "execution_count": 77,
   "metadata": {},
   "outputs": [
    {
     "name": "stdout",
     "output_type": "stream",
     "text": [
      "10 0 0\n",
      "16 0 1\n",
      "22 0 2\n",
      "8 1 0\n",
      "20 1 1\n",
      "22 1 2\n",
      "6 2 0\n",
      "9 2 1\n",
      "11 2 2\n",
      "20 0 0\n",
      "24 0 1\n",
      "36 0 2\n",
      "16 1 0\n",
      "24 1 1\n",
      "28 1 2\n",
      "12 2 0\n",
      "14 2 1\n",
      "18 2 2\n",
      "15 0 0\n",
      "17 0 1\n",
      "29 0 2\n",
      "12 1 0\n",
      "16 1 1\n",
      "20 1 2\n",
      "9 2 0\n",
      "10 2 1\n",
      "14 2 2\n"
     ]
    }
   ],
   "source": [
    "for i in range(len(arr1)):\n",
    "    answer_ = []\n",
    "    for j in range(len(reverse1)):\n",
    "        sum_=0\n",
    "        for k in range(len(reverse1[j])):\n",
    "            sum_+= arr1[i][k] *reverse1[j][k]\n",
    "            print(sum_,j,k)\n",
    "        answer_.append(sum_)\n",
    "    answer.append(answer_)"
   ]
  },
  {
   "cell_type": "code",
   "execution_count": 75,
   "metadata": {},
   "outputs": [
    {
     "name": "stdout",
     "output_type": "stream",
     "text": [
      "[[15, 15], [15, 15], [15, 15]]\n"
     ]
    }
   ],
   "source": [
    "print(answer)"
   ]
  },
  {
   "cell_type": "code",
   "execution_count": null,
   "metadata": {},
   "outputs": [],
   "source": []
  }
 ],
 "metadata": {
  "kernelspec": {
   "display_name": "Python 3",
   "language": "python",
   "name": "python3"
  },
  "language_info": {
   "codemirror_mode": {
    "name": "ipython",
    "version": 3
   },
   "file_extension": ".py",
   "mimetype": "text/x-python",
   "name": "python",
   "nbconvert_exporter": "python",
   "pygments_lexer": "ipython3",
   "version": "3.8.3"
  }
 },
 "nbformat": 4,
 "nbformat_minor": 4
}

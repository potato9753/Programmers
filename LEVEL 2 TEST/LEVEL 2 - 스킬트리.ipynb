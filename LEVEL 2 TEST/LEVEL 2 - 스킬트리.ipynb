{
 "cells": [
  {
   "cell_type": "code",
   "execution_count": null,
   "metadata": {},
   "outputs": [],
   "source": [
    "def solution(skill, skill_trees):\n",
    "    answer = 0\n",
    "    arr = []\n",
    "    k=0\n",
    "    for i in range(len(skill_trees)):\n",
    "        for j in range(len(skill_trees[i])):\n",
    "            if skill_trees[i][j] in skill:\n",
    "                arr.append(skill_trees[i][j])\n",
    "        if len(arr)==0:\n",
    "            answer +=1\n",
    "        else:\n",
    "            for k in range(len(arr)):\n",
    "                if arr[k] == skill[k]:\n",
    "                    if k == len(arr)-1:\n",
    "                        answer+=1\n",
    "                        arr=[]\n",
    "                        break\n",
    "                else:\n",
    "                    arr=[]\n",
    "                    break\n",
    "        arr=[]\n",
    "    return answer"
   ]
  }
 ],
 "metadata": {
  "kernelspec": {
   "display_name": "Python 3",
   "language": "python",
   "name": "python3"
  },
  "language_info": {
   "codemirror_mode": {
    "name": "ipython",
    "version": 3
   },
   "file_extension": ".py",
   "mimetype": "text/x-python",
   "name": "python",
   "nbconvert_exporter": "python",
   "pygments_lexer": "ipython3",
   "version": "3.8.3"
  }
 },
 "nbformat": 4,
 "nbformat_minor": 4
}

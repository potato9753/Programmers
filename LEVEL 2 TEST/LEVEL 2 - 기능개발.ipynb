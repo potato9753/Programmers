{
 "cells": [
  {
   "cell_type": "code",
   "execution_count": 37,
   "metadata": {},
   "outputs": [],
   "source": [
    "progresses = [93,30,55,50,92,90]\n",
    "speeds = [1,30,5,5,4,5]\n",
    "work = []\n",
    "work_ =[]\n",
    "cnt = 0"
   ]
  },
  {
   "cell_type": "code",
   "execution_count": 38,
   "metadata": {},
   "outputs": [
    {
     "name": "stdout",
     "output_type": "stream",
     "text": [
      "[7, 3, 9, 10, 2, 2]\n"
     ]
    }
   ],
   "source": [
    "for i in range(len(progresses)):\n",
    "    while progresses[i] <= 99:\n",
    "        progresses[i] += speeds[i]\n",
    "        cnt +=1\n",
    "    work.append(cnt)\n",
    "    cnt = 0\n",
    "print(work)\n",
    "cnt = 1"
   ]
  },
  {
   "cell_type": "code",
   "execution_count": 39,
   "metadata": {
    "scrolled": true
   },
   "outputs": [
    {
     "name": "stdout",
     "output_type": "stream",
     "text": [
      "[2, 1, 3]\n"
     ]
    }
   ],
   "source": [
    "while len(work) >=1:\n",
    "    if len(work) == 1:\n",
    "        work_.append(cnt)\n",
    "        break\n",
    "    if work[0] >= work[1]:\n",
    "        cnt +=1\n",
    "        del work[1]\n",
    "    else:\n",
    "        del work[0]\n",
    "        work_.append(cnt)\n",
    "        cnt = 1\n",
    "print(work_)"
   ]
  },
  {
   "cell_type": "code",
   "execution_count": null,
   "metadata": {},
   "outputs": [],
   "source": []
  }
 ],
 "metadata": {
  "kernelspec": {
   "display_name": "Python 3",
   "language": "python",
   "name": "python3"
  },
  "language_info": {
   "codemirror_mode": {
    "name": "ipython",
    "version": 3
   },
   "file_extension": ".py",
   "mimetype": "text/x-python",
   "name": "python",
   "nbconvert_exporter": "python",
   "pygments_lexer": "ipython3",
   "version": "3.7.6"
  }
 },
 "nbformat": 4,
 "nbformat_minor": 4
}

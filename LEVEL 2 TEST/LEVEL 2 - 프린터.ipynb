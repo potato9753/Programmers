{
 "cells": [
  {
   "cell_type": "code",
   "execution_count": 98,
   "metadata": {
    "scrolled": true
   },
   "outputs": [
    {
     "name": "stdout",
     "output_type": "stream",
     "text": [
      "9\n",
      "2\n",
      "1\n"
     ]
    }
   ],
   "source": [
    "arr = [1,1,9,1,1,1]\n",
    "location = 3\n",
    "k = arr[location]\n",
    "print(max(arr))\n",
    "print(arr.index(max(arr)))\n",
    "print(k)\n",
    "cnt = 1\n",
    "eq = 1"
   ]
  },
  {
   "cell_type": "code",
   "execution_count": 99,
   "metadata": {},
   "outputs": [
    {
     "name": "stdout",
     "output_type": "stream",
     "text": [
      "4\n",
      "5\n",
      "5\n",
      "5\n"
     ]
    }
   ],
   "source": [
    "if arr.index(max(arr)) > location:\n",
    "    for i in range(arr.index(max(arr)),len(arr)):\n",
    "        if arr[i]>=arr[location]:\n",
    "            cnt+=1\n",
    "            print(1)\n",
    "        else:\n",
    "            pass\n",
    "    for i in range(arr.index(max(arr))):\n",
    "        if arr[i]>=arr[location] and i < location:\n",
    "            cnt+=1\n",
    "            print(2)\n",
    "        elif arr[i] == arr[location] and i<location:\n",
    "            cnt+=1\n",
    "            print(3)\n",
    "        else:\n",
    "            pass\n",
    "elif arr.index(max(arr)) == location:\n",
    "    cnt = 1\n",
    "else:\n",
    "    for i in range(arr.index(max(arr)),len(arr)):\n",
    "        if arr[i]>arr[location]:\n",
    "            cnt+=1\n",
    "            print(4)\n",
    "        else:\n",
    "            pass\n",
    "    for i in range(location+1):\n",
    "        if arr[i]>=arr[location] and i != location:\n",
    "            cnt+=1\n",
    "            print(5)\n",
    "        elif arr[i] == arr[location] and i<location:\n",
    "            cnt+=1\n",
    "            print(6)\n",
    "        else:\n",
    "            pass\n",
    "    for i in range(location,arr.index(max(arr))):\n",
    "        if arr[i]>=arr[location] and i != location:\n",
    "            cnt+=1\n",
    "            print(7)\n",
    "        else:\n",
    "            pass"
   ]
  },
  {
   "cell_type": "code",
   "execution_count": 100,
   "metadata": {},
   "outputs": [
    {
     "name": "stdout",
     "output_type": "stream",
     "text": [
      "5\n"
     ]
    }
   ],
   "source": [
    "print(cnt)"
   ]
  },
  {
   "cell_type": "code",
   "execution_count": 194,
   "metadata": {},
   "outputs": [],
   "source": [
    "for j in range(arr.index(max(arr))+1, len(arr)):\n",
    "    if arr[j] == k and j == location:\n",
    "        break\n",
    "    elif arr[j] == k:\n",
    "    else:\n",
    "        pass\n",
    "if location < arr.index(max(arr)):\n",
    "    for p in range(arr.index(max(arr))-1):\n",
    "        if arr[p] == k and p == location:\n",
    "            eq += 1\n",
    "            break\n",
    "        elif arr[p] == k:\n",
    "            eq += 1\n",
    "        else:\n",
    "            pass"
   ]
  },
  {
   "cell_type": "code",
   "execution_count": 195,
   "metadata": {},
   "outputs": [],
   "source": [
    "arr.sort()\n",
    "arr.reverse()\n",
    "for i in range(len(arr)):\n",
    "    if arr[i] == k:\n",
    "        break\n",
    "    else:\n",
    "        cnt += 1\n",
    "    "
   ]
  },
  {
   "cell_type": "code",
   "execution_count": 196,
   "metadata": {},
   "outputs": [
    {
     "name": "stdout",
     "output_type": "stream",
     "text": [
      "0\n"
     ]
    }
   ],
   "source": [
    "print(eq)"
   ]
  },
  {
   "cell_type": "code",
   "execution_count": 197,
   "metadata": {},
   "outputs": [
    {
     "name": "stdout",
     "output_type": "stream",
     "text": [
      "0\n"
     ]
    }
   ],
   "source": [
    "print(cnt)"
   ]
  },
  {
   "cell_type": "code",
   "execution_count": 198,
   "metadata": {},
   "outputs": [],
   "source": [
    "answer = cnt + eq"
   ]
  },
  {
   "cell_type": "code",
   "execution_count": 199,
   "metadata": {},
   "outputs": [
    {
     "name": "stdout",
     "output_type": "stream",
     "text": [
      "0\n"
     ]
    }
   ],
   "source": [
    "print(answer)"
   ]
  },
  {
   "cell_type": "code",
   "execution_count": null,
   "metadata": {},
   "outputs": [],
   "source": []
  }
 ],
 "metadata": {
  "kernelspec": {
   "display_name": "Python 3",
   "language": "python",
   "name": "python3"
  },
  "language_info": {
   "codemirror_mode": {
    "name": "ipython",
    "version": 3
   },
   "file_extension": ".py",
   "mimetype": "text/x-python",
   "name": "python",
   "nbconvert_exporter": "python",
   "pygments_lexer": "ipython3",
   "version": "3.7.6"
  }
 },
 "nbformat": 4,
 "nbformat_minor": 4
}

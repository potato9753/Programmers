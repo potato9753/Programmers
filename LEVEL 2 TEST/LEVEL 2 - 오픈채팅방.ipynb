{
 "cells": [
  {
   "cell_type": "code",
   "execution_count": 199,
   "metadata": {},
   "outputs": [],
   "source": [
    "record = [\"Enter uid1234 Muzi\", \"Enter uid4567 Prodo\",\"Leave uid1234\",\"Enter uid1234 Prodo\",\"Change uid4567 Ryan\"]\n",
    "name = []\n",
    "log = []\n",
    "answer = []\n",
    "id_ = []"
   ]
  },
  {
   "cell_type": "code",
   "execution_count": 200,
   "metadata": {},
   "outputs": [
    {
     "name": "stdout",
     "output_type": "stream",
     "text": [
      "['Prodo님이 들어왔습니다.', 'Ryan님이 들어왔습니다.', 'Prodo님이 나갔습니다.', 'Prodo님이 들어왔습니다.']\n"
     ]
    }
   ],
   "source": [
    "new_ = []\n",
    "dic = {}\n",
    "\n",
    "for string in record :\n",
    "    split = string.split()\n",
    "\n",
    "    if split[0] == 'Enter' :\n",
    "        dic[split[1]] = split[2]\n",
    "    elif split[0] == 'Leave' :\n",
    "        pass\n",
    "    else :\n",
    "        dic[split[1]] = split[2]\n",
    "\n",
    "    new_.append(split)\n",
    "\n",
    "for list_ in new_ :\n",
    "    if list_[0] == 'Enter' :\n",
    "        status_ = '들어왔'\n",
    "        answer.append('{name}님이 {status}습니다.'.format(name=dic[list_[1]], status=status_))\n",
    "    elif list_[0] == 'Leave' :\n",
    "        status_ = '나갔'\n",
    "        answer.append('{name}님이 {status}습니다.'.format(name=dic[list_[1]], status=status_))\n",
    "    else :\n",
    "        pass\n",
    "print(answer)"
   ]
  },
  {
   "cell_type": "code",
   "execution_count": null,
   "metadata": {},
   "outputs": [],
   "source": [
    "for i in range(len(record)):\n",
    "    arr=[]\n",
    "    log=[]"
   ]
  },
  {
   "cell_type": "code",
   "execution_count": 196,
   "metadata": {},
   "outputs": [],
   "source": [
    "for i in range(len(record)):\n",
    "    arr=[]\n",
    "    log=[]\n",
    "    arr = record[i].split(' ')\n",
    "    if arr[0] == \"Enter\":\n",
    "        log.append(arr[0])\n",
    "        log.append(arr[1])\n",
    "        log.append(arr[2])\n",
    "        name.append(log)\n",
    "        for p in range(len(name)):\n",
    "            if arr[1] == name[p][1]:\n",
    "                name[p][2] = arr[2]\n",
    "            else:\n",
    "                pass\n",
    "    elif arr[0] == 'Leave':\n",
    "            log.append(arr[0])\n",
    "            log.append(arr[1])\n",
    "            for k in range(len(name)):\n",
    "                if arr[1] == name[k][1]:\n",
    "                    log.append(name[k][2])\n",
    "                    break\n",
    "                else:\n",
    "                    pass\n",
    "            name.append(log)\n",
    "            exit.append(log)\n",
    "    else:\n",
    "        for k in range(len(name)):\n",
    "            if name[k][1] == arr[1]:\n",
    "                name[k][2] = arr[2]\n",
    "            else:\n",
    "                pass\n",
    "for i in range(len(name)):\n",
    "    if name[i][0]=='Enter':\n",
    "        answer.append(name[i][2]+'님이 들어왔습니다.')\n",
    "    else:\n",
    "        answer.append(name[i][2]+'님이 나갔습니다.')"
   ]
  },
  {
   "cell_type": "code",
   "execution_count": 197,
   "metadata": {},
   "outputs": [
    {
     "name": "stdout",
     "output_type": "stream",
     "text": [
      "[['Enter', 'uid1234', 'Prodo'], ['Enter', 'uid4567', 'Ryan'], ['Leave', 'uid1234', 'Prodo'], ['Enter', 'uid1234', 'Prodo']]\n"
     ]
    }
   ],
   "source": [
    "print(name)"
   ]
  },
  {
   "cell_type": "code",
   "execution_count": null,
   "metadata": {},
   "outputs": [],
   "source": [
    "\n",
    "for i in range(len(record)):\n",
    "    arr=[]\n",
    "    log=[]\n",
    "    arr = record[i].split(' ')\n",
    "    if arr[0] == \"Enter\":\n",
    "        log.append(arr[0])\n",
    "        log.append(arr[1])\n",
    "        log.append(arr[2])\n",
    "        name.append(log)\n",
    "        for p in range(len(name)):\n",
    "            if arr[1] == name[p][1]:\n",
    "                name[p][2] = arr[2]\n",
    "            else:\n",
    "                pass\n",
    "    elif arr[0] == 'Leave':\n",
    "            log.append(arr[0])\n",
    "            log.append(arr[1])\n",
    "            for k in range(len(name)):\n",
    "                if arr[1] == name[k][1]:\n",
    "                    log.append(name[k][2])\n",
    "                    break\n",
    "                else:\n",
    "                    pass\n",
    "            name.append(log)\n",
    "    else:\n",
    "        for k in range(len(name)):\n",
    "            if name[k][1] == arr[1]:\n",
    "                name[k][2] = arr[2]\n",
    "            else:\n",
    "                pass\n",
    "for i in range(len(name)):\n",
    "    if name[i][0]=='Enter':\n",
    "        answer.append(name[i][2]+'님이 들어왔습니다.')\n",
    "    else:\n",
    "        answer.append(name[i][2]+'님이 나갔습니다.')"
   ]
  },
  {
   "cell_type": "code",
   "execution_count": 182,
   "metadata": {},
   "outputs": [
    {
     "name": "stdout",
     "output_type": "stream",
     "text": [
      "[['Enter', 'uid1234', 'Prodo'], ['Enter', 'uid4567', 'Ryan'], ['Leave', 'uid1234', 'Prodo'], ['Enter', 'uid1234', 'Prodo']]\n",
      "['Prodo님이 들어왔습니다.', 'Ryan님이 들어왔습니다.', 'Prodo님이 나갔습니다.', 'Prodo님이 들어왔습니다.']\n"
     ]
    }
   ],
   "source": [
    "print(name)\n",
    "print(answer)"
   ]
  },
  {
   "cell_type": "code",
   "execution_count": 176,
   "metadata": {},
   "outputs": [],
   "source": [
    "for i in range(len(record)):\n",
    "    arr=[]\n",
    "    log=[]\n",
    "    arr = record[i].split(' ')\n",
    "    if arr[0] == \"Enter\":\n",
    "        if len(name) == 0:\n",
    "            log.append(arr[0])\n",
    "            log.append(arr[1])\n",
    "            log.append(arr[2])\n",
    "            name.append(log)\n",
    "            id_.append(arr[1])\n",
    "        else:\n",
    "            if arr[1] in id_:\n",
    "                log.append(arr[0])\n",
    "                log.append(arr[1])\n",
    "                log.append(arr[2])\n",
    "                for p in range(len(name)):\n",
    "                    if arr[1] == name[p][1]:\n",
    "                        name[p][2] = arr[2]\n",
    "                name.append(log)\n",
    "            else:\n",
    "                log.append(arr[0])\n",
    "                log.append(arr[1])\n",
    "                log.append(arr[2])\n",
    "                name.append(log)\n",
    "                id_.append(arr[1])\n",
    "    elif arr[0] == 'Leave':\n",
    "            log.append(arr[0])\n",
    "            log.append(arr[1])\n",
    "            for k in range(len(name)):\n",
    "                if arr[1] == name[k][1]:\n",
    "                    log.append(name[k][2])\n",
    "                    break\n",
    "            name.append(log)\n",
    "    else:\n",
    "        for k in range(len(name)):\n",
    "            if name[k][1] == arr[1]:\n",
    "                name[k][2] = arr[2]\n",
    "for i in range(len(name)):\n",
    "    if name[i][0]=='Enter':\n",
    "        answer.append(name[i][2]+'님이 들어왔습니다.')\n",
    "    else:\n",
    "        answer.append(name[i][2]+'님이 나갔습니다.')"
   ]
  },
  {
   "cell_type": "code",
   "execution_count": 177,
   "metadata": {},
   "outputs": [
    {
     "name": "stdout",
     "output_type": "stream",
     "text": [
      "['Prodo님이 들어왔습니다.', 'zi님이 들어왔습니다.', 'Ryan님이 들어왔습니다.', 'Prodo님이 나갔습니다.', 'Prodo님이 들어왔습니다.']\n"
     ]
    }
   ],
   "source": [
    "print(answer)"
   ]
  },
  {
   "cell_type": "code",
   "execution_count": null,
   "metadata": {},
   "outputs": [],
   "source": [
    "for i in range(len(record)):\n",
    "    arr=[]\n",
    "    log=[]\n",
    "    arr = record[i].split(' ')\n",
    "    if arr[0] == \"Enter\":\n",
    "        answer.append(arr[2] + '님이 들어왔습니다')\n",
    "    elif arr[0] == 'Leave':\n",
    "        answer.append(arr[2] + '님이 나갔습니다.')\n",
    "    else:\n",
    "        for i in range(len(answer)):\n",
    "            if arr[]"
   ]
  }
 ],
 "metadata": {
  "kernelspec": {
   "display_name": "Python 3",
   "language": "python",
   "name": "python3"
  },
  "language_info": {
   "codemirror_mode": {
    "name": "ipython",
    "version": 3
   },
   "file_extension": ".py",
   "mimetype": "text/x-python",
   "name": "python",
   "nbconvert_exporter": "python",
   "pygments_lexer": "ipython3",
   "version": "3.8.3"
  }
 },
 "nbformat": 4,
 "nbformat_minor": 4
}

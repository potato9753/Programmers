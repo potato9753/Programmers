{
 "cells": [
  {
   "cell_type": "code",
   "execution_count": null,
   "metadata": {},
   "outputs": [],
   "source": [
    "from itertools import permutations\n",
    "\n",
    "def solution(numbers):\n",
    "    answer = 0\n",
    "    num = []\n",
    "    num1 = []\n",
    "    \n",
    "    for i in range(1,len(numbers)+1):\n",
    "        combi = list(permutations(numbers,i))\n",
    "        num.extend(combi)\n",
    "        \n",
    "    for i in num:\n",
    "        str1 =''\n",
    "        for j in i:\n",
    "            str1+=j\n",
    "        if int(str1) not in num1:\n",
    "            num1.append(int(str1))\n",
    "            \n",
    "    for i in range(len(num1)):\n",
    "        cnt = 0\n",
    "        for j in range(1,num1[i]):\n",
    "            if num1[i]%j ==0:\n",
    "                cnt+=1\n",
    "                if cnt ==2:\n",
    "                    break\n",
    "            if j==num1[i]-1:\n",
    "                answer+=1\n",
    "                \n",
    "    return answer"
   ]
  },
  {
   "cell_type": "code",
   "execution_count": 159,
   "metadata": {},
   "outputs": [],
   "source": [
    "numbers = '123'"
   ]
  },
  {
   "cell_type": "code",
   "execution_count": 160,
   "metadata": {},
   "outputs": [],
   "source": [
    "combi = list(permutations(numbers,2))\n",
    "combi1 = str(permutations(numbers,2))"
   ]
  },
  {
   "cell_type": "code",
   "execution_count": 161,
   "metadata": {},
   "outputs": [
    {
     "name": "stdout",
     "output_type": "stream",
     "text": [
      "[('1', '2'), ('1', '3'), ('2', '1'), ('2', '3'), ('3', '1'), ('3', '2')]\n"
     ]
    }
   ],
   "source": [
    "print(combi)"
   ]
  },
  {
   "cell_type": "code",
   "execution_count": 162,
   "metadata": {},
   "outputs": [
    {
     "name": "stdout",
     "output_type": "stream",
     "text": [
      "<itertools.permutations object at 0x00000294BA3A82C0>\n"
     ]
    }
   ],
   "source": [
    "print(combi1)"
   ]
  },
  {
   "cell_type": "code",
   "execution_count": null,
   "metadata": {},
   "outputs": [],
   "source": []
  }
 ],
 "metadata": {
  "kernelspec": {
   "display_name": "Python 3",
   "language": "python",
   "name": "python3"
  },
  "language_info": {
   "codemirror_mode": {
    "name": "ipython",
    "version": 3
   },
   "file_extension": ".py",
   "mimetype": "text/x-python",
   "name": "python",
   "nbconvert_exporter": "python",
   "pygments_lexer": "ipython3",
   "version": "3.8.3"
  }
 },
 "nbformat": 4,
 "nbformat_minor": 4
}

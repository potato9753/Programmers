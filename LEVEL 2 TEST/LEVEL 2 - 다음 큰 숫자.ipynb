{
 "cells": [
  {
   "cell_type": "code",
   "execution_count": 255,
   "metadata": {},
   "outputs": [],
   "source": [
    "n = 78\n",
    "n_bi = format(n,'b')\n",
    "flag = True\n",
    "comp = 0\n",
    "i = 1\n",
    "answer = int ('0b'+bi,2)"
   ]
  },
  {
   "cell_type": "code",
   "execution_count": 257,
   "metadata": {},
   "outputs": [
    {
     "name": "stdout",
     "output_type": "stream",
     "text": [
      "83\n"
     ]
    }
   ],
   "source": [
    "while(True):\n",
    "    comp = n+i\n",
    "    comp_bi=format(comp,'b')\n",
    "    if bi.count('1') == comp_bi.count('1'):\n",
    "        answer = comp\n",
    "        break\n",
    "    else:\n",
    "        i+=1\n",
    "print(answer)"
   ]
  }
 ],
 "metadata": {
  "kernelspec": {
   "display_name": "Python 3",
   "language": "python",
   "name": "python3"
  },
  "language_info": {
   "codemirror_mode": {
    "name": "ipython",
    "version": 3
   },
   "file_extension": ".py",
   "mimetype": "text/x-python",
   "name": "python",
   "nbconvert_exporter": "python",
   "pygments_lexer": "ipython3",
   "version": "3.8.3"
  }
 },
 "nbformat": 4,
 "nbformat_minor": 4
}

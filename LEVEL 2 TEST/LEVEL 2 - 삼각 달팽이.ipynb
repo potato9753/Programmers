{
 "cells": [
  {
   "cell_type": "code",
   "execution_count": null,
   "metadata": {},
   "outputs": [],
   "source": [
    "def solution(n):\n",
    "    answer = []\n",
    "    board = []\n",
    "    point = 0\n",
    "    num = 1\n",
    "    comp = 0\n",
    "    \n",
    "    for i in range(n):\n",
    "        comp +=(i+1)\n",
    "        \n",
    "    for i in range(n):\n",
    "        arr = [0]*(i+1)\n",
    "        board.append(arr)\n",
    "        \n",
    "    point0=0\n",
    "    point2=1\n",
    "    col = 0\n",
    "    \n",
    "    while True:\n",
    "        if point == 0:\n",
    "            for i in range(col,len(board)):\n",
    "                board[i][point0] = num\n",
    "                num+=1\n",
    "                if i==len(board)-1 or board[i+1][point0] != 0:\n",
    "                    point=1\n",
    "                    point0+=1\n",
    "                    col = i\n",
    "                    break\n",
    "        elif point == 1:\n",
    "            for i in range(point0,len(board[col])):\n",
    "                board[col][i] = num\n",
    "                num+=1\n",
    "                if i==len(board[col])-1 or board[col][i+1] != 0:\n",
    "                    point=2\n",
    "                    break\n",
    "        elif point == 2:\n",
    "            for i in range(col-1,-1,-1):\n",
    "                board[i][-point2] = num\n",
    "                num+=1\n",
    "                if i ==0 or board[i-1][-point2] != 0:\n",
    "                    point=0\n",
    "                    col = i+1\n",
    "                    point2+=1\n",
    "                    break\n",
    "        if num == comp+1:\n",
    "            break\n",
    "    for i in board:\n",
    "        for j in i:\n",
    "            answer.append(j)\n",
    "            \n",
    "    return answer"
   ]
  }
 ],
 "metadata": {
  "kernelspec": {
   "display_name": "Python 3",
   "language": "python",
   "name": "python3"
  },
  "language_info": {
   "codemirror_mode": {
    "name": "ipython",
    "version": 3
   },
   "file_extension": ".py",
   "mimetype": "text/x-python",
   "name": "python",
   "nbconvert_exporter": "python",
   "pygments_lexer": "ipython3",
   "version": "3.8.3"
  }
 },
 "nbformat": 4,
 "nbformat_minor": 4
}

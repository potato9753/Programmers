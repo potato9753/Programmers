{
 "cells": [
  {
   "cell_type": "code",
   "execution_count": 205,
   "metadata": {},
   "outputs": [],
   "source": [
    "clothes = [['yellow_hat', 'headgear'], ['blue_sunglasses', 'eyewear'], ['green_turban', 'headgear']]\n",
    "#lothes = [['crow_mask', 'face'], ['blue_sunglasses', 'face'], ['smoky_makeup', 'face']]\n",
    "arr=[]\n",
    "arr_=[]\n",
    "answer = 1\n",
    "cnt =0\n",
    "com=0\n",
    "com1=1\n",
    "com2=1\n",
    "mul =1"
   ]
  },
  {
   "cell_type": "code",
   "execution_count": 206,
   "metadata": {},
   "outputs": [
    {
     "name": "stdout",
     "output_type": "stream",
     "text": [
      "[['yellow_hat', 'headgear', 'green_turban'], ['blue_sunglasses', 'eyewear']]\n",
      "5\n"
     ]
    }
   ],
   "source": [
    "for i in range(len(clothes)):\n",
    "    if i == 0:\n",
    "        arr.append(clothes[i])\n",
    "    else:\n",
    "        for j in range(len(arr)):\n",
    "            if arr[j][1] == clothes[i][1]:\n",
    "                arr[j].append(clothes[i][0])\n",
    "                break\n",
    "            elif j == len(arr)-1 and arr[j][1] != clothes[i][1]:\n",
    "                arr.append(clothes[i])\n",
    "print(arr)\n",
    "if len(arr) == 1:\n",
    "    answer = len(arr[0])-1\n",
    "    mul = 0\n",
    "else:\n",
    "    for k in range(len(arr)):\n",
    "        answer = answer * len(arr[k])\n",
    "print(answer-1)"
   ]
  },
  {
   "cell_type": "code",
   "execution_count": 196,
   "metadata": {},
   "outputs": [
    {
     "name": "stdout",
     "output_type": "stream",
     "text": [
      "[['crow_mask', 'face', 'blue_sunglasses', 'smoky_makeup']]\n",
      "3\n"
     ]
    }
   ],
   "source": [
    "for i in range(len(clothes)):\n",
    "    if i == 0:\n",
    "        arr.append(clothes[i])\n",
    "    else:\n",
    "        for j in range(len(arr)):\n",
    "            if arr[j][1] == clothes[i][1]:\n",
    "                arr[j].append(clothes[i][0])\n",
    "                break\n",
    "            elif j == len(arr)-1 and arr[j][1] != clothes[i][1]:\n",
    "                arr.append(clothes[i])\n",
    "print(arr)\n",
    "if len(arr) == 1:\n",
    "    answer = len(arr[0])-1\n",
    "    mul = 0\n",
    "else:\n",
    "    for k in range(len(arr)):\n",
    "        answer += len(arr[k])-1\n",
    "        if k != 0:\n",
    "            mul += mul * (len(arr[k])-1)\n",
    "    print(answer,mul)\n",
    "answer = answer + mul\n",
    "print(answer)"
   ]
  },
  {
   "cell_type": "code",
   "execution_count": 170,
   "metadata": {},
   "outputs": [
    {
     "name": "stdout",
     "output_type": "stream",
     "text": [
      "[['crow_mask', 'face', 'blue_sunglasses', 'smoky_makeup']]\n",
      "0 0\n"
     ]
    }
   ],
   "source": [
    "for i in range(len(clothes)):\n",
    "    if i == 0:\n",
    "        arr.append(clothes[i])\n",
    "    else:\n",
    "        for j in range(len(arr)):\n",
    "            if arr[j][1] == clothes[i][1]:\n",
    "                arr[j].append(clothes[i][0])\n",
    "                break\n",
    "            elif j == len(arr)-1 and arr[j][1] != clothes[i][1]:\n",
    "                arr.append(clothes[i])\n",
    "print(arr)\n",
    "if len(arr) == 1:\n",
    "    answer = len(arr[0])-1\n",
    "    mul = 0\n",
    "else:\n",
    "    for k in range(len(arr)):\n",
    "        cnt += len(arr[k])-1\n",
    "    for p in range(1,cnt):\n",
    "        com1 = 1\n",
    "        com2 = 1\n",
    "        com1 *= p\n",
    "        com2 *= cnt-p\n",
    "        com += com2/com1 \n",
    "answer = cnt + int(com)\n",
    "print(answer,int(com))"
   ]
  },
  {
   "cell_type": "code",
   "execution_count": 138,
   "metadata": {},
   "outputs": [
    {
     "name": "stdout",
     "output_type": "stream",
     "text": [
      "[['crow_mask', 'face', 'blue_sunglasses', 'smoky_makeup', 'blue_sunglasses', 'smoky_makeup', 'blue_sunglasses', 'smoky_makeup', 'crow_mask', 'crow_mask', 'crow_mask', 'blue_sunglasses', 'blue_sunglasses', 'blue_sunglasses', 'smoky_makeup', 'smoky_makeup', 'smoky_makeup'], ['yellow_hat', 'headgear', 'green_turban', 'yellow_hat', 'green_turban', 'yellow_hat', 'green_turban', 'yellow_hat', 'green_turban'], ['blue_sunglasses', 'eyewear', 'blue_sunglasses', 'blue_sunglasses', 'blue_sunglasses'], ['crow_mask', 'face', 'blue_sunglasses', 'smoky_makeup', 'blue_sunglasses', 'smoky_makeup', 'blue_sunglasses', 'smoky_makeup', 'crow_mask', 'crow_mask', 'crow_mask', 'blue_sunglasses', 'blue_sunglasses', 'blue_sunglasses', 'smoky_makeup', 'smoky_makeup', 'smoky_makeup'], ['crow_mask', 'face', 'blue_sunglasses', 'smoky_makeup', 'blue_sunglasses', 'smoky_makeup', 'blue_sunglasses', 'smoky_makeup', 'crow_mask', 'crow_mask', 'crow_mask', 'blue_sunglasses', 'blue_sunglasses', 'blue_sunglasses', 'smoky_makeup', 'smoky_makeup', 'smoky_makeup'], ['crow_mask', 'face', 'blue_sunglasses', 'smoky_makeup', 'blue_sunglasses', 'smoky_makeup', 'blue_sunglasses', 'smoky_makeup', 'crow_mask', 'crow_mask', 'crow_mask', 'crow_mask', 'crow_mask', 'crow_mask', 'crow_mask', 'crow_mask', 'blue_sunglasses', 'blue_sunglasses', 'blue_sunglasses', 'blue_sunglasses', 'blue_sunglasses', 'blue_sunglasses', 'blue_sunglasses', 'blue_sunglasses', 'smoky_makeup', 'smoky_makeup', 'smoky_makeup', 'smoky_makeup', 'smoky_makeup', 'smoky_makeup', 'smoky_makeup', 'smoky_makeup'], ['crow_mask', 'face', 'blue_sunglasses', 'smoky_makeup', 'blue_sunglasses', 'smoky_makeup', 'blue_sunglasses', 'smoky_makeup', 'crow_mask', 'crow_mask', 'crow_mask', 'crow_mask', 'crow_mask', 'crow_mask', 'crow_mask', 'crow_mask', 'blue_sunglasses', 'blue_sunglasses', 'blue_sunglasses', 'blue_sunglasses', 'blue_sunglasses', 'blue_sunglasses', 'blue_sunglasses', 'blue_sunglasses', 'smoky_makeup', 'smoky_makeup', 'smoky_makeup', 'smoky_makeup', 'smoky_makeup', 'smoky_makeup', 'smoky_makeup', 'smoky_makeup'], ['crow_mask', 'face', 'blue_sunglasses', 'smoky_makeup', 'blue_sunglasses', 'smoky_makeup', 'blue_sunglasses', 'smoky_makeup', 'crow_mask', 'crow_mask', 'crow_mask', 'crow_mask', 'crow_mask', 'crow_mask', 'crow_mask', 'crow_mask', 'blue_sunglasses', 'blue_sunglasses', 'blue_sunglasses', 'blue_sunglasses', 'blue_sunglasses', 'blue_sunglasses', 'blue_sunglasses', 'blue_sunglasses', 'smoky_makeup', 'smoky_makeup', 'smoky_makeup', 'smoky_makeup', 'smoky_makeup', 'smoky_makeup', 'smoky_makeup', 'smoky_makeup'], ['crow_mask', 'face', 'blue_sunglasses', 'smoky_makeup', 'blue_sunglasses', 'smoky_makeup', 'blue_sunglasses', 'smoky_makeup', 'crow_mask', 'crow_mask', 'crow_mask', 'crow_mask', 'crow_mask', 'crow_mask', 'crow_mask', 'crow_mask', 'blue_sunglasses', 'blue_sunglasses', 'blue_sunglasses', 'blue_sunglasses', 'blue_sunglasses', 'blue_sunglasses', 'blue_sunglasses', 'blue_sunglasses', 'smoky_makeup', 'smoky_makeup', 'smoky_makeup', 'smoky_makeup', 'smoky_makeup', 'smoky_makeup', 'smoky_makeup', 'smoky_makeup'], ['crow_mask', 'face', 'blue_sunglasses', 'smoky_makeup', 'blue_sunglasses', 'smoky_makeup', 'blue_sunglasses', 'smoky_makeup', 'crow_mask', 'crow_mask', 'crow_mask', 'crow_mask', 'crow_mask', 'crow_mask', 'crow_mask', 'crow_mask', 'blue_sunglasses', 'blue_sunglasses', 'blue_sunglasses', 'blue_sunglasses', 'blue_sunglasses', 'blue_sunglasses', 'blue_sunglasses', 'blue_sunglasses', 'smoky_makeup', 'smoky_makeup', 'smoky_makeup', 'smoky_makeup', 'smoky_makeup', 'smoky_makeup', 'smoky_makeup', 'smoky_makeup'], ['crow_mask', 'face', 'blue_sunglasses', 'smoky_makeup', 'blue_sunglasses', 'smoky_makeup', 'blue_sunglasses', 'smoky_makeup', 'crow_mask', 'crow_mask', 'crow_mask', 'crow_mask', 'crow_mask', 'crow_mask', 'crow_mask', 'crow_mask', 'blue_sunglasses', 'blue_sunglasses', 'blue_sunglasses', 'blue_sunglasses', 'blue_sunglasses', 'blue_sunglasses', 'blue_sunglasses', 'blue_sunglasses', 'smoky_makeup', 'smoky_makeup', 'smoky_makeup', 'smoky_makeup', 'smoky_makeup', 'smoky_makeup', 'smoky_makeup', 'smoky_makeup'], ['crow_mask', 'face', 'blue_sunglasses', 'smoky_makeup', 'blue_sunglasses', 'smoky_makeup', 'blue_sunglasses', 'smoky_makeup', 'crow_mask', 'crow_mask', 'crow_mask', 'crow_mask', 'crow_mask', 'crow_mask', 'crow_mask', 'crow_mask', 'blue_sunglasses', 'blue_sunglasses', 'blue_sunglasses', 'blue_sunglasses', 'blue_sunglasses', 'blue_sunglasses', 'blue_sunglasses', 'blue_sunglasses', 'smoky_makeup', 'smoky_makeup', 'smoky_makeup', 'smoky_makeup', 'smoky_makeup', 'smoky_makeup', 'smoky_makeup', 'smoky_makeup'], ['crow_mask', 'face', 'blue_sunglasses', 'smoky_makeup', 'blue_sunglasses', 'smoky_makeup', 'blue_sunglasses', 'smoky_makeup', 'crow_mask', 'crow_mask', 'crow_mask', 'crow_mask', 'crow_mask', 'crow_mask', 'crow_mask', 'crow_mask', 'blue_sunglasses', 'blue_sunglasses', 'blue_sunglasses', 'blue_sunglasses', 'blue_sunglasses', 'blue_sunglasses', 'blue_sunglasses', 'blue_sunglasses', 'smoky_makeup', 'smoky_makeup', 'smoky_makeup', 'smoky_makeup', 'smoky_makeup', 'smoky_makeup', 'smoky_makeup', 'smoky_makeup'], ['yellow_hat', 'headgear', 'green_turban', 'yellow_hat', 'green_turban', 'yellow_hat', 'green_turban', 'green_turban'], ['blue_sunglasses', 'eyewear', 'blue_sunglasses', 'blue_sunglasses'], ['green_turban', 'headgear']]\n",
      "['green_turban', 'headgear']\n"
     ]
    }
   ],
   "source": [
    "for i in range(len(clothes)):\n",
    "    arr_=[]\n",
    "    for j in range(len(clothes[i])):\n",
    "        arr_.append(clothes[i][j])\n",
    "        if i==0:\n",
    "            arr.append(arr_)\n",
    "            continue\n",
    "    for k in range(len(arr)):\n",
    "        if arr[k][1] == arr_[1]:\n",
    "            arr[k].append(arr_[0])\n",
    "            continue\n",
    "        elif k == len(arr)-1 and arr[k][1] != arr_[1]:\n",
    "            arr.append(arr_)\n",
    "print(arr)\n",
    "print(arr_)"
   ]
  },
  {
   "cell_type": "code",
   "execution_count": null,
   "metadata": {},
   "outputs": [],
   "source": []
  }
 ],
 "metadata": {
  "kernelspec": {
   "display_name": "Python 3",
   "language": "python",
   "name": "python3"
  },
  "language_info": {
   "codemirror_mode": {
    "name": "ipython",
    "version": 3
   },
   "file_extension": ".py",
   "mimetype": "text/x-python",
   "name": "python",
   "nbconvert_exporter": "python",
   "pygments_lexer": "ipython3",
   "version": "3.8.3"
  }
 },
 "nbformat": 4,
 "nbformat_minor": 4
}

{
 "cells": [
  {
   "cell_type": "code",
   "execution_count": 39,
   "metadata": {},
   "outputs": [
    {
     "name": "stdout",
     "output_type": "stream",
     "text": [
      "9\n",
      "3\n",
      "119\n"
     ]
    }
   ],
   "source": [
    "phone_book = ['119', '97674223', '1195524421']\n",
    "#phone_book = ['123','456','789']\n",
    "print(phone_book[0][-1])\n",
    "answer = True\n",
    "cnt = 0\n",
    "print(len(phone_book[0]))\n",
    "print(phone_book[0][0:len(phone_book[1])])"
   ]
  },
  {
   "cell_type": "code",
   "execution_count": 40,
   "metadata": {
    "scrolled": true
   },
   "outputs": [
    {
     "name": "stdout",
     "output_type": "stream",
     "text": [
      "True\n",
      "True\n",
      "True\n",
      "False\n",
      "False\n"
     ]
    }
   ],
   "source": [
    "for i in range(len(phone_book)):\n",
    "    for j in range(len(phone_book)):\n",
    "        print(answer)\n",
    "        if len(phone_book[i]) >= len(phone_book[j]):\n",
    "            pass\n",
    "        if phone_book[i] != phone_book[j]:\n",
    "             if phone_book[i] == phone_book[j][0:len(phone_book[i])]:\n",
    "                answer = False\n",
    "        if answer == False:\n",
    "            break"
   ]
  },
  {
   "cell_type": "code",
   "execution_count": 41,
   "metadata": {},
   "outputs": [
    {
     "name": "stdout",
     "output_type": "stream",
     "text": [
      "False\n"
     ]
    }
   ],
   "source": [
    "print(answer)"
   ]
  },
  {
   "cell_type": "code",
   "execution_count": null,
   "metadata": {},
   "outputs": [],
   "source": []
  }
 ],
 "metadata": {
  "kernelspec": {
   "display_name": "Python 3",
   "language": "python",
   "name": "python3"
  },
  "language_info": {
   "codemirror_mode": {
    "name": "ipython",
    "version": 3
   },
   "file_extension": ".py",
   "mimetype": "text/x-python",
   "name": "python",
   "nbconvert_exporter": "python",
   "pygments_lexer": "ipython3",
   "version": "3.7.6"
  }
 },
 "nbformat": 4,
 "nbformat_minor": 4
}

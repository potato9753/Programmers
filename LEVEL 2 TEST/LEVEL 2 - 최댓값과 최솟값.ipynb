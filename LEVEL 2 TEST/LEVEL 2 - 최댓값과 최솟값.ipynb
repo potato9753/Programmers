{
 "cells": [
  {
   "cell_type": "code",
   "execution_count": 1,
   "metadata": {},
   "outputs": [],
   "source": [
    "s ='1 2 3 4'\n",
    "max_ = 0\n",
    "min_ = 0\n",
    "answer ="
   ]
  },
  {
   "cell_type": "code",
   "execution_count": 4,
   "metadata": {},
   "outputs": [
    {
     "name": "stdout",
     "output_type": "stream",
     "text": [
      "['1', '2', '3', '4']\n"
     ]
    }
   ],
   "source": [
    "s_ = s.split(' ')\n",
    "print(s_)"
   ]
  },
  {
   "cell_type": "code",
   "execution_count": null,
   "metadata": {},
   "outputs": [],
   "source": [
    "for i in range(len(s_)):\n",
    "    if i == 0:\n",
    "        max_ = int(s_[i])\n",
    "        min_ = int(s_[i])\n",
    "    else:\n",
    "        if int(s_[i])>max_:\n",
    "            max_ = int(s_[i])\n",
    "        elif int(s_[i])<min_:\n",
    "            min_ = int(s_[i])\n"
   ]
  }
 ],
 "metadata": {
  "kernelspec": {
   "display_name": "Python 3",
   "language": "python",
   "name": "python3"
  },
  "language_info": {
   "codemirror_mode": {
    "name": "ipython",
    "version": 3
   },
   "file_extension": ".py",
   "mimetype": "text/x-python",
   "name": "python",
   "nbconvert_exporter": "python",
   "pygments_lexer": "ipython3",
   "version": "3.8.3"
  }
 },
 "nbformat": 4,
 "nbformat_minor": 4
}

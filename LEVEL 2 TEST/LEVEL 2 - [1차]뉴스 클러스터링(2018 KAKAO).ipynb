{
 "cells": [
  {
   "cell_type": "code",
   "execution_count": null,
   "metadata": {},
   "outputs": [],
   "source": [
    "def solution(str1, str2):\n",
    "    answer = 0\n",
    "    str1 = str1.lower()\n",
    "    str2 = str2.lower()\n",
    "    list_str1 = []\n",
    "    list_str2 = []\n",
    "    sum_ =[]\n",
    "    uni = []\n",
    "    answer=0\n",
    "    num = 0\n",
    "    eng = ['a','b','c','d','e','f','g','h','i','j','k','l','m','n','o','p','q','r','s','t','u','v','w','x','y','z']\n",
    "    \n",
    "    for i in range(1,len(str1)):\n",
    "        if str1[i] in eng and str1[i-1] in eng:\n",
    "            list_str1.append(str1[i-1]+str1[i])\n",
    "    for i in range(1,len(str2)):\n",
    "        if str2[i] in eng and str2[i-1] in eng:\n",
    "            list_str2.append(str2[i-1]+str2[i])\n",
    "            \n",
    "    num = len(list_str2)\n",
    "    \n",
    "    for i in list_str1:\n",
    "        sum_.append(i)\n",
    "        if i in list_str2:\n",
    "            uni.append(i)\n",
    "            list_str2.pop(list_str2.index(i))\n",
    "    for i in list_str2:\n",
    "        sum_.append(i)\n",
    "              \n",
    "    \n",
    "    if len(uni) == 0 and len(sum_)==0:\n",
    "        return 65536\n",
    "    \n",
    "    if len(sum_) == len(uni):\n",
    "        if len(list_str1)>num:\n",
    "            return int(num/len(list_str1)*65536)\n",
    "        else:\n",
    "            return int(len(list_str1)/num*65536)\n",
    "        \n",
    "    answer = int(len(uni)/len(sum_)*65536)\n",
    "    \n",
    "    return answer"
   ]
  }
 ],
 "metadata": {
  "kernelspec": {
   "display_name": "Python 3",
   "language": "python",
   "name": "python3"
  },
  "language_info": {
   "codemirror_mode": {
    "name": "ipython",
    "version": 3
   },
   "file_extension": ".py",
   "mimetype": "text/x-python",
   "name": "python",
   "nbconvert_exporter": "python",
   "pygments_lexer": "ipython3",
   "version": "3.8.3"
  }
 },
 "nbformat": 4,
 "nbformat_minor": 4
}

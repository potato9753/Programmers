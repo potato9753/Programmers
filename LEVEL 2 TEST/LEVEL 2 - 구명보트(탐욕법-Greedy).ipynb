{
 "cells": [
  {
   "cell_type": "code",
   "execution_count": null,
   "metadata": {},
   "outputs": [],
   "source": [
    "from collections import deque\n",
    "\n",
    "def solution(people, limit):\n",
    "    answer = 0\n",
    "    people.sort()\n",
    "    de = deque(people)\n",
    "    while(len(de)>0):\n",
    "        if len(de)>1 and de[-1] + de[0] <=limit:\n",
    "            de.pop()\n",
    "            de.popleft()\n",
    "        else:\n",
    "            de.pop()\n",
    "        answer+=1\n",
    "    return answer"
   ]
  }
 ],
 "metadata": {
  "kernelspec": {
   "display_name": "Python 3",
   "language": "python",
   "name": "python3"
  },
  "language_info": {
   "codemirror_mode": {
    "name": "ipython",
    "version": 3
   },
   "file_extension": ".py",
   "mimetype": "text/x-python",
   "name": "python",
   "nbconvert_exporter": "python",
   "pygments_lexer": "ipython3",
   "version": "3.8.3"
  }
 },
 "nbformat": 4,
 "nbformat_minor": 4
}

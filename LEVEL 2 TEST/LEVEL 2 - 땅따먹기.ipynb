{
 "cells": [
  {
   "cell_type": "code",
   "execution_count": 84,
   "metadata": {},
   "outputs": [],
   "source": [
    "land = [[1,2,3,5],[5,6,8,8],[4,3,2,1],[2,1,1,1]]\n",
    "sum_ = 0\n",
    "same_=[]\n",
    "arr = []"
   ]
  },
  {
   "cell_type": "code",
   "execution_count": 85,
   "metadata": {},
   "outputs": [
    {
     "name": "stdout",
     "output_type": "stream",
     "text": [
      "[0]\n",
      "-----------1--------\n",
      "[1]\n",
      "-----------1--------\n",
      "[2]\n",
      "-----------1--------\n",
      "[3]\n",
      "5\n",
      "[3, 0]\n",
      "-----------1--------\n",
      "[3, 1]\n",
      "-----------1--------\n",
      "[3, 2]\n",
      "[3, 2]\n",
      "8\n",
      "[3, 2, 0]\n",
      "[3, 2, 0]\n",
      "[3, 2, 0]\n",
      "[3, 2, 0]\n",
      "4\n",
      "[3, 2, 0]\n",
      "-----------1--------\n",
      "[3, 2, 1]\n",
      "[3, 2, 1]\n",
      "[3, 2, 1]\n",
      "1\n"
     ]
    }
   ],
   "source": [
    "for i in range(len(land)):\n",
    "    max_=0\n",
    "    for j in range(len(land[i])):\n",
    "        if j == 0 :\n",
    "            if i==0:\n",
    "                max_ = land[i][j]\n",
    "                arr.append(j)\n",
    "            elif j != arr[-1]:\n",
    "                max_ = land[i][j]\n",
    "                arr.append(j)\n",
    "        elif max_<land[i][j]:\n",
    "            if i ==0:\n",
    "                if j != arr[-1]:\n",
    "                    max_=land[i][j]\n",
    "                    arr.pop()\n",
    "                    arr.append(j)\n",
    "                    print('-----------1--------')\n",
    "                elif len(same_) > 0 and j != same[-1]:\n",
    "                    max_=land[i][j]\n",
    "                    arr.pop()\n",
    "                    arr.append(j)\n",
    "                    same_.pop()\n",
    "                    print('-----------2--------')\n",
    "            else:\n",
    "                if j != arr[-2]:\n",
    "                    max_=land[i][j]\n",
    "                    arr.pop()\n",
    "                    arr.append(j)\n",
    "                    print('-----------1--------')\n",
    "                elif len(same_) > 0 and j != same[-1]:\n",
    "                    max_=land[i][j]\n",
    "                    arr.pop()\n",
    "                    arr.append(j)\n",
    "                    same_.pop()\n",
    "                    print('-----------2--------')\n",
    "        elif max_==land[i][j]:\n",
    "            same_.append(j)\n",
    "        #print(same)\n",
    "        print(arr)\n",
    "    print(max_)\n",
    "    sum_+=max_\n",
    "        "
   ]
  },
  {
   "cell_type": "code",
   "execution_count": 86,
   "metadata": {},
   "outputs": [
    {
     "name": "stdout",
     "output_type": "stream",
     "text": [
      "18\n"
     ]
    }
   ],
   "source": [
    "print(sum_)"
   ]
  },
  {
   "cell_type": "code",
   "execution_count": null,
   "metadata": {},
   "outputs": [],
   "source": []
  }
 ],
 "metadata": {
  "kernelspec": {
   "display_name": "Python 3",
   "language": "python",
   "name": "python3"
  },
  "language_info": {
   "codemirror_mode": {
    "name": "ipython",
    "version": 3
   },
   "file_extension": ".py",
   "mimetype": "text/x-python",
   "name": "python",
   "nbconvert_exporter": "python",
   "pygments_lexer": "ipython3",
   "version": "3.8.3"
  }
 },
 "nbformat": 4,
 "nbformat_minor": 4
}

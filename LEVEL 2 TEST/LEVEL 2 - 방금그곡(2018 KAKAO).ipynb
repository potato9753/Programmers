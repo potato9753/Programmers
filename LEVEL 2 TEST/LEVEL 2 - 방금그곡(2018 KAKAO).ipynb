{
 "cells": [
  {
   "cell_type": "code",
   "execution_count": 34,
   "metadata": {},
   "outputs": [],
   "source": [
    "# '#'제거하는 함수\n",
    "def change(arr):\n",
    "    arr = arr.replace('A#','a')\n",
    "    arr = arr.replace('C#','c')\n",
    "    arr = arr.replace('D#','d')\n",
    "    arr = arr.replace('F#','f')\n",
    "    arr = arr.replace('G#','g')\n",
    "    return arr"
   ]
  },
  {
   "cell_type": "code",
   "execution_count": 39,
   "metadata": {},
   "outputs": [],
   "source": [
    "def solution(m, music):\n",
    "    arr = []\n",
    "    answer = ''\n",
    "    num = 0\n",
    "    start = ''\n",
    "    #MUSIC 리스트를 시작/종료/이름/멜로디로 나눈다\n",
    "    for i in range(len(music)):\n",
    "        arr_ = music[i].split(',')\n",
    "        arr.append(arr_)\n",
    "        arr[i][3] = change(arr[i][3])\n",
    "    # 시간만큼 멜로디를 추가하여 생성한다.\n",
    "    for i in range(len(arr)):\n",
    "        k = (int(arr[i][1][:2])*60+int(arr[i][1][3:])) - (int(arr[i][0][:2])*60+int(arr[i][0][3:]))#재생 시간(분)\n",
    "        \n",
    "        if k>=len(arr[i][3]):\n",
    "            for j in range(k-len(arr[i][3])):\n",
    "                arr[i][3] += arr[i][3][j%len(arr[i][3])]\n",
    "        else:\n",
    "            for j in range(len(arr[i][3])-k):\n",
    "                arr[i][3] = arr[i][3][:len(arr[i][3])-1]\n",
    "    # '#'이 끝에 있으면 다른 멜로디임으로 # 제거\n",
    "    m = change(m)\n",
    "    \n",
    "    for i in range(len(arr)):\n",
    "        if m in arr[i][3]:\n",
    "            if num < (int(arr[i][1][:2])*60+int(arr[i][1][3:])) - (int(arr[i][0][:2])*60+int(arr[i][0][3:])):\n",
    "                answer = arr[i][2]\n",
    "                num = (int(arr[i][1][:2])*60+int(arr[i][1][3:])) - (int(arr[i][0][:2])*60+int(arr[i][0][3:]))\n",
    "                start = arr[i][1][:2] + arr[i][1][3:]\n",
    "            elif num == (int(arr[i][1][:2])*60+int(arr[i][1][3:])) - (int(arr[i][0][:2])*60+int(arr[i][0][3:])):\n",
    "                if int(start) > int(arr[i][1][:2] + arr[i][1][3:]):\n",
    "                    answer = arr[i][2]\n",
    "                    num = (int(arr[i][1][:2])*60+int(arr[i][1][3:])) - (int(arr[i][0][:2])*60+int(arr[i][0][3:]))\n",
    "                    start = arr[i][1][:2] + arr[i][1][3:]\n",
    "    if len(answer) == 0:\n",
    "        return '(None)'\n",
    "    return answer"
   ]
  }
 ],
 "metadata": {
  "kernelspec": {
   "display_name": "Python 3",
   "language": "python",
   "name": "python3"
  },
  "language_info": {
   "codemirror_mode": {
    "name": "ipython",
    "version": 3
   },
   "file_extension": ".py",
   "mimetype": "text/x-python",
   "name": "python",
   "nbconvert_exporter": "python",
   "pygments_lexer": "ipython3",
   "version": "3.8.3"
  }
 },
 "nbformat": 4,
 "nbformat_minor": 4
}

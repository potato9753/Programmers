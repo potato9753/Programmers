{
 "cells": [
  {
   "cell_type": "code",
   "execution_count": null,
   "metadata": {},
   "outputs": [],
   "source": [
    "def solution(numbers):\n",
    "    answer = ''\n",
    "    num = []\n",
    "    sum_= 0\n",
    "    for i in range(len(numbers)):\n",
    "        arr = []\n",
    "        arr.append(str(numbers[i]))\n",
    "        if len(str(numbers[i])) ==1:\n",
    "            arr.append(str(numbers[i])*4)\n",
    "        elif len(str(numbers[i])) ==2:\n",
    "            arr.append(str(numbers[i])*2)\n",
    "        elif len(str(numbers[i])) ==3:\n",
    "            arr.append(str(numbers[i])+str(numbers[i])[0])\n",
    "        else:\n",
    "            arr.append(str(numbers[i]))\n",
    "        num.append(arr)\n",
    "    num.sort(key=lambda x:x[1])\n",
    "    \n",
    "    for i in range(len(num)-1,-1,-1):\n",
    "        answer+=num[i][0]\n",
    "        sum_ += int(num[i][0])\n",
    "    if sum_ == 0:\n",
    "        return '0'\n",
    "    else:\n",
    "        return answer"
   ]
  }
 ],
 "metadata": {
  "kernelspec": {
   "display_name": "Python 3",
   "language": "python",
   "name": "python3"
  },
  "language_info": {
   "codemirror_mode": {
    "name": "ipython",
    "version": 3
   },
   "file_extension": ".py",
   "mimetype": "text/x-python",
   "name": "python",
   "nbconvert_exporter": "python",
   "pygments_lexer": "ipython3",
   "version": "3.8.3"
  }
 },
 "nbformat": 4,
 "nbformat_minor": 4
}

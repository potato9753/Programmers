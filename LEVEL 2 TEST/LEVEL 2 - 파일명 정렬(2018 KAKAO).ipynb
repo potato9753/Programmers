{
 "cells": [
  {
   "cell_type": "code",
   "execution_count": 87,
   "metadata": {},
   "outputs": [],
   "source": [
    "import re\n",
    "files = ['img12.png', 'img10.png', 'img02.png', 'img1.png', 'IMG01.GIF', 'img2.JPG']\n",
    "#files =  ['F-5 Freedom Fighter','B-50 Superfortress', 'A-10 Thunderbolt II', 'F-14 Tomcat']\n",
    "answer =[]\n",
    "cnt=0\n",
    "num = ['0','1','2','3','4','5','6','7','8','9']"
   ]
  },
  {
   "cell_type": "code",
   "execution_count": 88,
   "metadata": {},
   "outputs": [],
   "source": [
    "for i in range(len(files)):\n",
    "    arr = []\n",
    "    str1 = ''\n",
    "    for j in range(len(files[i])):\n",
    "        if files[i][j] in num:\n",
    "            arr.append(str1.lower())\n",
    "            break\n",
    "        else:\n",
    "            str1+=files[i][j]\n",
    "    #arr.append(files[i].lower())\n",
    "    for j in range(len(arr[0])):\n",
    "        if arr[0][j] == '0':\n",
    "            if arr[0][j-1] not in num:\n",
    "                arr[0] = arr[0][:j] +arr[0][j+1:]\n",
    "                break\n",
    "    arr.append(files[i])\n",
    "    arr.extend(re.findall('\\d+',files[i]))\n",
    "    while(True):\n",
    "        if arr[-1][0] != '0':\n",
    "            break\n",
    "        else:\n",
    "            arr[-1] = arr[-1][1:]\n",
    "    arr[-1] = int(arr[-1])\n",
    "    files[i] = arr"
   ]
  },
  {
   "cell_type": "code",
   "execution_count": 89,
   "metadata": {
    "scrolled": true
   },
   "outputs": [
    {
     "name": "stdout",
     "output_type": "stream",
     "text": [
      "[['img', 'img12.png', 12], ['img', 'img10.png', 10], ['img', 'img02.png', 2], ['img', 'img1.png', 1], ['img', 'IMG01.GIF', 1], ['img', 'img2.JPG', 2]]\n"
     ]
    }
   ],
   "source": [
    "print(files)"
   ]
  },
  {
   "cell_type": "code",
   "execution_count": 90,
   "metadata": {},
   "outputs": [],
   "source": [
    "files.sort(key=lambda x:x[0],reverse=True)"
   ]
  },
  {
   "cell_type": "code",
   "execution_count": 91,
   "metadata": {},
   "outputs": [
    {
     "name": "stdout",
     "output_type": "stream",
     "text": [
      "[['img', 'img12.png', 12], ['img', 'img10.png', 10], ['img', 'img02.png', 2], ['img', 'img1.png', 1], ['img', 'IMG01.GIF', 1], ['img', 'img2.JPG', 2]]\n"
     ]
    }
   ],
   "source": [
    "print(files)"
   ]
  },
  {
   "cell_type": "code",
   "execution_count": 92,
   "metadata": {},
   "outputs": [],
   "source": [
    "for i in range(1,len(files)):\n",
    "    if files[i][0] == files[i-1][0]:\n",
    "        cnt+=1\n",
    "    else:\n",
    "        files[i-cnt:i].sort(key=lambda x:x[-1],reverse=False)\n",
    "        cnt=0"
   ]
  },
  {
   "cell_type": "code",
   "execution_count": 93,
   "metadata": {},
   "outputs": [
    {
     "name": "stdout",
     "output_type": "stream",
     "text": [
      "[['img', 'img12.png', 12], ['img', 'img10.png', 10], ['img', 'img02.png', 2], ['img', 'img1.png', 1], ['img', 'IMG01.GIF', 1], ['img', 'img2.JPG', 2]]\n"
     ]
    }
   ],
   "source": [
    "print(files)\n",
    "for i in range(len(files)):\n",
    "    files[i] = files[i][1]"
   ]
  },
  {
   "cell_type": "code",
   "execution_count": 94,
   "metadata": {},
   "outputs": [
    {
     "name": "stdout",
     "output_type": "stream",
     "text": [
      "['img12.png', 'img10.png', 'img02.png', 'img1.png', 'IMG01.GIF', 'img2.JPG']\n"
     ]
    }
   ],
   "source": [
    "print(files)"
   ]
  },
  {
   "cell_type": "code",
   "execution_count": null,
   "metadata": {},
   "outputs": [],
   "source": []
  },
  {
   "cell_type": "code",
   "execution_count": null,
   "metadata": {},
   "outputs": [],
   "source": []
  }
 ],
 "metadata": {
  "kernelspec": {
   "display_name": "Python 3",
   "language": "python",
   "name": "python3"
  },
  "language_info": {
   "codemirror_mode": {
    "name": "ipython",
    "version": 3
   },
   "file_extension": ".py",
   "mimetype": "text/x-python",
   "name": "python",
   "nbconvert_exporter": "python",
   "pygments_lexer": "ipython3",
   "version": "3.8.3"
  }
 },
 "nbformat": 4,
 "nbformat_minor": 4
}

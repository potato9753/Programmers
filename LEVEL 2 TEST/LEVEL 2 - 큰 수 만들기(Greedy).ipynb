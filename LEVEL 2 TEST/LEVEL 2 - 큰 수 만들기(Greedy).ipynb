{
 "cells": [
  {
   "cell_type": "code",
   "execution_count": 154,
   "metadata": {},
   "outputs": [],
   "source": [
    "number = '1924'\n",
    "k=2\n",
    "answer = ''\n",
    "num = len(number)-k\n",
    "start = 0"
   ]
  },
  {
   "cell_type": "code",
   "execution_count": 155,
   "metadata": {},
   "outputs": [
    {
     "name": "stdout",
     "output_type": "stream",
     "text": [
      "9 2 3\n",
      "92 3 4\n"
     ]
    }
   ],
   "source": [
    "while(len(answer)!=len(number)-k):\n",
    "    arr = []\n",
    "    for i in range(start,num):\n",
    "        if len(arr)==0:\n",
    "            arr.append(number[i])\n",
    "            start = i+1\n",
    "        elif arr[-1]<number[i]:\n",
    "            arr.pop()\n",
    "            arr.append(number[i])\n",
    "            start = i+1\n",
    "    answer+=arr[0]\n",
    "    num+=1\n",
    "    print(answer,start,num)\n",
    "    if len(number)-k -len(answer) == len(number)-start:\n",
    "        answer+=number[start:]\n",
    "        break"
   ]
  },
  {
   "cell_type": "code",
   "execution_count": 156,
   "metadata": {},
   "outputs": [
    {
     "name": "stdout",
     "output_type": "stream",
     "text": [
      "92\n"
     ]
    }
   ],
   "source": [
    "print(answer)"
   ]
  },
  {
   "cell_type": "code",
   "execution_count": null,
   "metadata": {},
   "outputs": [],
   "source": []
  }
 ],
 "metadata": {
  "kernelspec": {
   "display_name": "Python 3",
   "language": "python",
   "name": "python3"
  },
  "language_info": {
   "codemirror_mode": {
    "name": "ipython",
    "version": 3
   },
   "file_extension": ".py",
   "mimetype": "text/x-python",
   "name": "python",
   "nbconvert_exporter": "python",
   "pygments_lexer": "ipython3",
   "version": "3.8.3"
  }
 },
 "nbformat": 4,
 "nbformat_minor": 4
}

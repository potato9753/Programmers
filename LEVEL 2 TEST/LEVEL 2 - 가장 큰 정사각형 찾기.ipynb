{
 "cells": [
  {
   "cell_type": "code",
   "execution_count": 160,
   "metadata": {},
   "outputs": [],
   "source": [
    "board =[[0,1,1,1],[1,1,0,1],[1,1,1,1],[0,0,1,0]]\n",
    "#board = [[1,1,1,1,1],[1,0,0,0,1],[1,0,0,0,1],[1,0,0,0,1],[1,1,1,1,1]]\n",
    "#board = [[0],[1]]\n",
    "answer = 1\n",
    "square = []\n",
    "square_= []\n",
    "a = []"
   ]
  },
  {
   "cell_type": "code",
   "execution_count": 161,
   "metadata": {},
   "outputs": [
    {
     "name": "stdout",
     "output_type": "stream",
     "text": [
      "[[0, 1, 1, 1], [1, 2, 0, 2], [2, 3, 1, 3], [0, 0, 2, 0]]\n"
     ]
    }
   ],
   "source": [
    "for i in range(len(board)):\n",
    "    a = []\n",
    "    for j in range(len(board[i])):\n",
    "        if i==0:\n",
    "            square.append(board[i][j])\n",
    "        elif square[j] ==0:\n",
    "            square[j] = board[i][j]\n",
    "        elif board[i][j] == 1:\n",
    "            square[j]+=1\n",
    "            pass\n",
    "        else:\n",
    "            square[j] = 0\n",
    "    a.extend(square)\n",
    "    square_.append(a)\n",
    "print(square_)"
   ]
  },
  {
   "cell_type": "code",
   "execution_count": null,
   "metadata": {},
   "outputs": [],
   "source": [
    "for m in range(len(square_)):\n",
    "    for n in range(len(square[m])):\n",
    "        "
   ]
  },
  {
   "cell_type": "code",
   "execution_count": 159,
   "metadata": {},
   "outputs": [
    {
     "name": "stdout",
     "output_type": "stream",
     "text": [
      "0 0 2 1\n",
      "0 1 3 1\n",
      "0 2 4 1\n",
      "0 3 5 1\n",
      "2\n",
      "2\n",
      "2\n",
      "2\n",
      "4 1 2 1\n",
      "4 2 3 1\n",
      "4 3 4 1\n",
      "3\n"
     ]
    }
   ],
   "source": [
    "for m in range(len(square_)):\n",
    "    answer_ = 1\n",
    "    for n in range(len(square_[m])-1):\n",
    "        if square_[m][n] <= square_[m][n+1] and square_[m][n] != 0:\n",
    "            answer_ += 1\n",
    "            if n == len(square_[m])-2:\n",
    "                answer+=1\n",
    "            print(m,n,answer_,1)\n",
    "        else:\n",
    "            answer_ = 1\n",
    "        if answer_ == square_[m][n+1]:\n",
    "            if answer <= answer_ :\n",
    "                answer = answer_\n",
    "    print(answer)"
   ]
  },
  {
   "cell_type": "code",
   "execution_count": 177,
   "metadata": {},
   "outputs": [
    {
     "name": "stdout",
     "output_type": "stream",
     "text": [
      "[0]\n",
      "[]\n",
      "[0, 1]\n",
      "[]\n",
      "[0, 1, 1]\n",
      "[]\n",
      "[0, 1, 1, 1]\n",
      "[]\n",
      "[1, 1, 1, 1]\n",
      "[[1, 1, 1, 1]]\n",
      "[1, 2, 1, 1]\n",
      "[[1, 2, 1, 1]]\n",
      "[1, 2, 2, 1]\n",
      "[[1, 2, 2, 1]]\n",
      "[1, 2, 2, 2]\n",
      "[[1, 2, 2, 2]]\n",
      "[2, 2, 2, 2]\n",
      "[[2, 2, 2, 2], [2, 2, 2, 2]]\n",
      "[2, 3, 2, 2]\n",
      "[[2, 3, 2, 2], [2, 3, 2, 2]]\n",
      "[2, 3, 3, 2]\n",
      "[[2, 3, 3, 2], [2, 3, 3, 2]]\n",
      "[2, 3, 3, 3]\n",
      "[[2, 3, 3, 3], [2, 3, 3, 3]]\n",
      "[2, 3, 3, 3]\n",
      "[[2, 3, 3, 3], [2, 3, 3, 3], [2, 3, 3, 3]]\n",
      "[2, 3, 3, 3]\n",
      "[[2, 3, 3, 3], [2, 3, 3, 3], [2, 3, 3, 3]]\n",
      "[2, 3, 4, 3]\n",
      "[[2, 3, 4, 3], [2, 3, 4, 3], [2, 3, 4, 3]]\n",
      "[2, 3, 4, 3]\n",
      "[[2, 3, 4, 3], [2, 3, 4, 3], [2, 3, 4, 3]]\n",
      "[[2, 3, 4, 3], [2, 3, 4, 3], [2, 3, 4, 3], [2, 3, 4, 3]]\n"
     ]
    }
   ],
   "source": [
    "for i in range(len(board)):\n",
    "    #if i != 0:\n",
    "    #    square = square_[-1]\n",
    "    for j in range(len(board[i])):\n",
    "        if i==0:\n",
    "            square.append(board[i][j])\n",
    "        elif board[i][j] == 1:\n",
    "            square[j]+=1\n",
    "        else:\n",
    "            square[j] == 0        \n",
    "        print(square)\n",
    "        print(square_)\n",
    "    square_.append(square)\n",
    "print(square_)"
   ]
  },
  {
   "cell_type": "code",
   "execution_count": 160,
   "metadata": {},
   "outputs": [
    {
     "name": "stdout",
     "output_type": "stream",
     "text": [
      "[[4, 5, 7, 5, 0, 1, 1, 1], [4, 5, 7, 5, 0, 1, 1, 1], [4, 5, 7, 5, 0, 1, 1, 1], [4, 5, 7, 5, 0, 1, 1, 1], [4, 5, 7, 5, 0, 1, 1, 1], [4, 5, 7, 5, 0, 1, 1, 1], [4, 5, 7, 5, 0, 1, 1, 1], [4, 5, 7, 5, 0, 1, 1, 1]]\n"
     ]
    }
   ],
   "source": [
    "print(square_)"
   ]
  },
  {
   "cell_type": "code",
   "execution_count": null,
   "metadata": {},
   "outputs": [],
   "source": []
  }
 ],
 "metadata": {
  "kernelspec": {
   "display_name": "Python 3",
   "language": "python",
   "name": "python3"
  },
  "language_info": {
   "codemirror_mode": {
    "name": "ipython",
    "version": 3
   },
   "file_extension": ".py",
   "mimetype": "text/x-python",
   "name": "python",
   "nbconvert_exporter": "python",
   "pygments_lexer": "ipython3",
   "version": "3.8.3"
  }
 },
 "nbformat": 4,
 "nbformat_minor": 4
}

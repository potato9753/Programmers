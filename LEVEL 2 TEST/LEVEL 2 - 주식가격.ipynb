{
 "cells": [
  {
   "cell_type": "code",
   "execution_count": 130,
   "metadata": {},
   "outputs": [],
   "source": [
    "prices = [1,2,2,2,1]\n",
    "answer = []\n",
    "cnt = 0"
   ]
  },
  {
   "cell_type": "code",
   "execution_count": 131,
   "metadata": {},
   "outputs": [],
   "source": [
    "for i in range(len(prices)):\n",
    "    if i == len(prices)-1:\n",
    "        answer.append(0)\n",
    "        break\n",
    "    if prices[i] <= prices[i+1]:\n",
    "        for j in range(i+1,len(prices)):\n",
    "            if prices[i] <= prices[j]:\n",
    "                cnt += 1\n",
    "            else:\n",
    "                cnt += 1\n",
    "                break\n",
    "        answer.append(cnt)\n",
    "        cnt = 0\n",
    "    else:\n",
    "        answer.append(1)"
   ]
  },
  {
   "cell_type": "code",
   "execution_count": 132,
   "metadata": {},
   "outputs": [
    {
     "name": "stdout",
     "output_type": "stream",
     "text": [
      "[4, 3, 2, 1, 0]\n"
     ]
    }
   ],
   "source": [
    "print(answer)"
   ]
  }
 ],
 "metadata": {
  "kernelspec": {
   "display_name": "Python 3",
   "language": "python",
   "name": "python3"
  },
  "language_info": {
   "codemirror_mode": {
    "name": "ipython",
    "version": 3
   },
   "file_extension": ".py",
   "mimetype": "text/x-python",
   "name": "python",
   "nbconvert_exporter": "python",
   "pygments_lexer": "ipython3",
   "version": "3.7.6"
  }
 },
 "nbformat": 4,
 "nbformat_minor": 4
}

{
 "cells": [
  {
   "cell_type": "code",
   "execution_count": 231,
   "metadata": {},
   "outputs": [],
   "source": [
    "arrangement = '()(((()())(())()))(())'\n",
    "answer1 = 0\n",
    "answer = 0 \n",
    "answer2 = 0\n",
    "razer = 0\n",
    "arr= []\n",
    "razer_=[]"
   ]
  },
  {
   "cell_type": "code",
   "execution_count": 232,
   "metadata": {},
   "outputs": [],
   "source": [
    "for i in range(len(arrangement)-1):\n",
    "    if arrangement[i] == '(' and arrangement[i+1] ==')':\n",
    "        razer += 1"
   ]
  },
  {
   "cell_type": "code",
   "execution_count": 234,
   "metadata": {},
   "outputs": [],
   "source": [
    "for i in range(len(arrangement)):\n",
    "    if arrangement[i] == ')':\n",
    "        arr.append(i)\n",
    "        for j in range(i,-1,-1):\n",
    "            if arrangement[j] == '(' and j not in arr:\n",
    "                arr.append(j)\n",
    "                break"
   ]
  },
  {
   "cell_type": "code",
   "execution_count": 236,
   "metadata": {},
   "outputs": [],
   "source": [
    "for i in range(len(arr)-1):\n",
    "    if arr[i] - 1 == arr[i+1]:\n",
    "        razer_.append(arr[i+1])\n",
    "        razer_.append(arr[i])\n",
    "    else:\n",
    "        pass\n"
   ]
  },
  {
   "cell_type": "code",
   "execution_count": 238,
   "metadata": {},
   "outputs": [
    {
     "name": "stdout",
     "output_type": "stream",
     "text": [
      "4 5 1\n",
      "4 7 2\n",
      "10 11 1\n",
      "3 5 1\n",
      "3 7 2\n",
      "3 11 3\n",
      "3 14 4\n",
      "2 5 1\n",
      "2 7 2\n",
      "2 11 3\n",
      "2 14 4\n",
      "18 19 1\n"
     ]
    }
   ],
   "source": [
    "for i in range(len(arr)-1):\n",
    "    if arr[i] not in razer_ and arr[i] > arr[i+1]:\n",
    "        for j in range (len(razer_)-1):\n",
    "            if razer_[j] > arr[i+1] and razer_[j+1] < arr[i]  and arrangement[razer_[j+1]] == ')':\n",
    "                answer +=1\n",
    "                print(arr[i+1],razer_[j],answer)\n",
    "        answer1 += answer + 1\n",
    "        answer = 0"
   ]
  },
  {
   "cell_type": "code",
   "execution_count": 239,
   "metadata": {
    "scrolled": true
   },
   "outputs": [
    {
     "name": "stdout",
     "output_type": "stream",
     "text": [
      "17\n"
     ]
    }
   ],
   "source": [
    "print(answer1)"
   ]
  }
 ],
 "metadata": {
  "kernelspec": {
   "display_name": "Python 3",
   "language": "python",
   "name": "python3"
  },
  "language_info": {
   "codemirror_mode": {
    "name": "ipython",
    "version": 3
   },
   "file_extension": ".py",
   "mimetype": "text/x-python",
   "name": "python",
   "nbconvert_exporter": "python",
   "pygments_lexer": "ipython3",
   "version": "3.8.3"
  }
 },
 "nbformat": 4,
 "nbformat_minor": 4
}

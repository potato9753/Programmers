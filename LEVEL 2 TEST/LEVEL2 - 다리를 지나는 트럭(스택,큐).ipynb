{
 "cells": [
  {
   "cell_type": "markdown",
   "metadata": {},
   "source": [
    "# 최종 시간 줄인답안"
   ]
  },
  {
   "cell_type": "code",
   "execution_count": 1,
   "metadata": {},
   "outputs": [],
   "source": [
    "from collections import deque\n",
    "\n",
    "def solution(leng, wei, truck):\n",
    "    answer = 0\n",
    "    truck = deque(truck)\n",
    "    bri = deque([0]*leng)\n",
    "    br_wei = 0\n",
    "    \n",
    "    while True:\n",
    "        answer+=1\n",
    "        in_=0\n",
    "        if bri[0] != 0:\n",
    "            br_wei-=bri[0]\n",
    "        bri.popleft()\n",
    "        bri.append(0)\n",
    "        if len(truck)>0 and br_wei+truck[0]<=wei:\n",
    "            in_ = truck.popleft()\n",
    "            br_wei+=in_\n",
    "            bri[-1]=in_\n",
    "        else:\n",
    "            pass\n",
    "        if len(truck) == 0 and br_wei==0:\n",
    "            break\n",
    "    return answer"
   ]
  },
  {
   "cell_type": "markdown",
   "metadata": {},
   "source": [
    "# 첫 코드지만 시간을 많이 잡음"
   ]
  },
  {
   "cell_type": "code",
   "execution_count": null,
   "metadata": {},
   "outputs": [],
   "source": [
    "from collections import deque\n",
    "# 트럭 이동 / 다리를 빠져나가는 트럭 무게 빼기\n",
    "def move(arr_bridge,wei,length):\n",
    "    wei -= arr_bridge[0]\n",
    "    arr_bridge.popleft()\n",
    "    arr_bridge.append(0)\n",
    "    \n",
    "    return arr_bridge,wei\n",
    "\n",
    "#다리에 트럭 입장 / 입장 시 다리에 트럭 무게 더하기\n",
    "def truck_in(arr_truck,arr_bridge,wei):\n",
    "    var = arr_truck.popleft()\n",
    "    arr_bridge[-1] = var\n",
    "    \n",
    "    return arr_truck, arr_bridge, wei+var\n",
    "\n",
    "def solution(length, weight, truck):\n",
    "    answer = 1\n",
    "    bridge = deque([0]*length)\n",
    "    now_weight = 0\n",
    "    truck.reverse()\n",
    "    truck = deque(truck)\n",
    "    while True :\n",
    "        answer += 1\n",
    "        if len(truck)>0:\n",
    "            if sum(bridge)+truck[0] <= weight :\n",
    "                truck,bridge, now_weight = truck_in(truck, bridge, now_weight)\n",
    "\n",
    "        bridge, now_weight = move(bridge, now_weight,length)\n",
    "\n",
    "        if len(truck) == 0 and now_weight == 0:\n",
    "            break \n",
    "    return answer"
   ]
  },
  {
   "cell_type": "code",
   "execution_count": 4,
   "metadata": {},
   "outputs": [
    {
     "data": {
      "text/plain": [
       "8"
      ]
     },
     "execution_count": 4,
     "metadata": {},
     "output_type": "execute_result"
    }
   ],
   "source": [
    "solution(2,10,[7,4,5,6])"
   ]
  }
 ],
 "metadata": {
  "kernelspec": {
   "display_name": "Python 3",
   "language": "python",
   "name": "python3"
  },
  "language_info": {
   "codemirror_mode": {
    "name": "ipython",
    "version": 3
   },
   "file_extension": ".py",
   "mimetype": "text/x-python",
   "name": "python",
   "nbconvert_exporter": "python",
   "pygments_lexer": "ipython3",
   "version": "3.7.6"
  }
 },
 "nbformat": 4,
 "nbformat_minor": 4
}

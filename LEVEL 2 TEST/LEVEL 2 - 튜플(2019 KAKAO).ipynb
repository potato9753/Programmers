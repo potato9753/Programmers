{
 "cells": [
  {
   "cell_type": "code",
   "execution_count": null,
   "metadata": {},
   "outputs": [],
   "source": [
    "from collections import defaultdict\n",
    "\n",
    "def solution(s):\n",
    "    s_ = []\n",
    "    answer=[]\n",
    "    str_= ''\n",
    "    dic= defaultdict(int)\n",
    "    for i in range(len(s)):\n",
    "        if s[i] == '{' or s[i] == '}' or s[i] == ',':\n",
    "            if len(str_) == 0:\n",
    "                continue\n",
    "            else:\n",
    "                s_.append(str_)\n",
    "                str_=''\n",
    "        else:\n",
    "            str_+= s[i]\n",
    "    for i in range(len(s_)):\n",
    "        dic[s_[i]] += 1\n",
    "    dic = sorted(dic.items(),key=lambda x:x[1],reverse=True)\n",
    "    for i,idx in dic:\n",
    "        answer.append(int(i))\n",
    "    return answer"
   ]
  }
 ],
 "metadata": {
  "kernelspec": {
   "display_name": "Python 3",
   "language": "python",
   "name": "python3"
  },
  "language_info": {
   "codemirror_mode": {
    "name": "ipython",
    "version": 3
   },
   "file_extension": ".py",
   "mimetype": "text/x-python",
   "name": "python",
   "nbconvert_exporter": "python",
   "pygments_lexer": "ipython3",
   "version": "3.7.6"
  }
 },
 "nbformat": 4,
 "nbformat_minor": 4
}

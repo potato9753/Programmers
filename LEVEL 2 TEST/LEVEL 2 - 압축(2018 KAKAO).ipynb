{
 "cells": [
  {
   "cell_type": "code",
   "execution_count": null,
   "metadata": {},
   "outputs": [],
   "source": [
    "def solution(msg):\n",
    "    arr =['','A','B','C','D','E','F','G','H','I','J','K','L','M','N','O','P','Q','R','S','T','U','V','W','X','Y','Z']\n",
    "    answer=[]\n",
    "    i=0\n",
    "    while(i<len(msg)):\n",
    "        str_ = ''\n",
    "        for j in range(i,len(msg)):\n",
    "            str_+=msg[j]\n",
    "            if str_ in arr:\n",
    "                i+=1\n",
    "                if j==len(msg)-1:\n",
    "                    answer.append(arr.index(str_))\n",
    "                    break\n",
    "            else:\n",
    "                answer.append(arr.index(str_[0:len(str_)-1]))\n",
    "                i = j\n",
    "                arr.append(str_)\n",
    "                break\n",
    "\n",
    "    return answer"
   ]
  }
 ],
 "metadata": {
  "kernelspec": {
   "display_name": "Python 3",
   "language": "python",
   "name": "python3"
  },
  "language_info": {
   "codemirror_mode": {
    "name": "ipython",
    "version": 3
   },
   "file_extension": ".py",
   "mimetype": "text/x-python",
   "name": "python",
   "nbconvert_exporter": "python",
   "pygments_lexer": "ipython3",
   "version": "3.8.3"
  }
 },
 "nbformat": 4,
 "nbformat_minor": 4
}

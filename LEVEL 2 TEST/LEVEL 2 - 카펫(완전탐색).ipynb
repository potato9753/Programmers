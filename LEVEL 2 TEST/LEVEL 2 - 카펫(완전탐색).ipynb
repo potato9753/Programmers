{
 "cells": [
  {
   "cell_type": "code",
   "execution_count": 17,
   "metadata": {},
   "outputs": [],
   "source": [
    "brown = 24\n",
    "yellow = 24\n",
    "arr_=[]\n",
    "answer=[]\n",
    "k = 2"
   ]
  },
  {
   "cell_type": "code",
   "execution_count": 18,
   "metadata": {},
   "outputs": [
    {
     "name": "stdout",
     "output_type": "stream",
     "text": [
      "[8, 6]\n"
     ]
    }
   ],
   "source": [
    "while(True):\n",
    "    fix_yellow = yellow\n",
    "    arr = []\n",
    "    for i in range((k//2)+2):\n",
    "        arr_ = [1 for i in range((brown-k)//2)]\n",
    "        arr.append(a)\n",
    "    for i in range(1,len(arr)-1):\n",
    "        fix_yellow -= len(arr[i])-2 \n",
    "        if fix_yellow <0:\n",
    "            break\n",
    "    if fix_yellow == 0 :\n",
    "        break\n",
    "    else:\n",
    "        k+=2\n",
    "answer.append(len(arr[0]))\n",
    "answer.append(len(arr))\n",
    "print(answer)"
   ]
  },
  {
   "cell_type": "code",
   "execution_count": null,
   "metadata": {},
   "outputs": [],
   "source": [
    "while(True):\n",
    "    fix_yellow = yellow\n",
    "    arr = []\n",
    "    for i in range((k//2)+2):\n",
    "        a=[]\n",
    "        print(arr)for j in range((brown-k)//2):\n",
    "            if i == 0:\n",
    "                arr_.append(1)\n",
    "            elif i == (k//2)+2 - 1:\n",
    "                arr_[j] = 1\n",
    "            else:\n",
    "                continue\n",
    "\n",
    "        a.extend(arr_)\n",
    "        arr.append(a)\n",
    "    for i in range(1,len(arr)-1):\n",
    "        fix_yellow -= len(arr[i])-2 \n",
    "        if fix_yellow <0:\n",
    "            break\n",
    "    if fix_yellow == 0 :\n",
    "        break\n",
    "    else:\n",
    "        k+=2\n",
    "answer.append(len(arr[0]))\n",
    "answer.append(len(arr))"
   ]
  },
  {
   "cell_type": "code",
   "execution_count": null,
   "metadata": {},
   "outputs": [],
   "source": [
    "for i in range((k//2)+2):\n",
    "    a=[]\n",
    "    for j in range((brown-k)//2):\n",
    "        if i == 0:\n",
    "            arr_.append(1)\n",
    "        elif i == (k//2)+2 - 1:\n",
    "            arr_[j] = 1\n",
    "        else:\n",
    "            for k in range(len(arr_)):\n",
    "                if k ==0 or k==len(arr_)-1:\n",
    "                    arr_[k]=1\n",
    "                else:\n",
    "                    arr_[k]=0\n",
    "    a.extend(arr_)\n",
    "    arr.append(a)\n",
    "    print(arr,(k//2)+2)"
   ]
  },
  {
   "cell_type": "code",
   "execution_count": null,
   "metadata": {},
   "outputs": [],
   "source": [
    "while(True):\n",
    "    k = 1\n",
    "    for i in range(brown/2-k):\n",
    "        arr_=[]\n",
    "        arr_.append(1)\n",
    "        fix_brown\n",
    "        if i>=1 or i< (brown/2)-k-1:\n",
    "            for j in range(yellow):\n",
    "                \n",
    "        "
   ]
  }
 ],
 "metadata": {
  "kernelspec": {
   "display_name": "Python 3",
   "language": "python",
   "name": "python3"
  },
  "language_info": {
   "codemirror_mode": {
    "name": "ipython",
    "version": 3
   },
   "file_extension": ".py",
   "mimetype": "text/x-python",
   "name": "python",
   "nbconvert_exporter": "python",
   "pygments_lexer": "ipython3",
   "version": "3.8.3"
  }
 },
 "nbformat": 4,
 "nbformat_minor": 4
}

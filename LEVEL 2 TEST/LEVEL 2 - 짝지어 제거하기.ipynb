{
 "cells": [
  {
   "cell_type": "code",
   "execution_count": 9,
   "metadata": {},
   "outputs": [],
   "source": [
    "def solution(s):\n",
    "    answer = 0\n",
    "    list1 = []\n",
    "    for i in s:\n",
    "        if len(list1) == 0:\n",
    "            list1.append(i)\n",
    "        elif i == list1[-1]:\n",
    "            list1.pop()\n",
    "        else:\n",
    "            list1.append(i)\n",
    "    if len(list1) >0:\n",
    "        return 0\n",
    "    else:\n",
    "        return 1"
   ]
  }
 ],
 "metadata": {
  "kernelspec": {
   "display_name": "Python 3",
   "language": "python",
   "name": "python3"
  },
  "language_info": {
   "codemirror_mode": {
    "name": "ipython",
    "version": 3
   },
   "file_extension": ".py",
   "mimetype": "text/x-python",
   "name": "python",
   "nbconvert_exporter": "python",
   "pygments_lexer": "ipython3",
   "version": "3.8.3"
  }
 },
 "nbformat": 4,
 "nbformat_minor": 4
}

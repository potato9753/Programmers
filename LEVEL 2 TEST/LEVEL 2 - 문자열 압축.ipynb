{
 "cells": [
  {
   "cell_type": "code",
   "execution_count": 73,
   "metadata": {},
   "outputs": [
    {
     "name": "stdout",
     "output_type": "stream",
     "text": [
      "['a', 'a', 'a', 'a', 'a', 'a', 'a', 'a', 'a', 'a', 'a']\n",
      "11a\n",
      "['aa', 'aa', 'aa', 'aa', 'aa', 'a']\n",
      "5aaa\n",
      "['aaa', 'aaa', 'aaa', 'aa']\n",
      "3aaaaa\n",
      "['aaaa', 'aaaa', 'aaa']\n",
      "2aaaaaaa\n",
      "['aaaaa', 'aaaaa', 'a']\n",
      "2aaaaaa\n",
      "[3, 4, 6, 8, 7]\n",
      "3\n"
     ]
    }
   ],
   "source": [
    "#s = 'abcabcabcabcdededededede'\n",
    "#s = \"ababcdcdababcdcd\"\n",
    "s = 'a'*11\n",
    "#s='qbcabcawertytyuiopasdfghjklzxcvbnm'\n",
    "answer_ = ''\n",
    "answer_leng=[]\n",
    "answer = 0\n",
    "for i in range(1,len(s)//2+1):\n",
    "    arr=[]\n",
    "    cnt = 1\n",
    "    for j in range(0,len(s),i):\n",
    "        arr.append(s[j:j+i])\n",
    "    #print(arr)\n",
    "    for k in range(len(arr)-1):\n",
    "        if arr[k] == arr[k+1]:\n",
    "            cnt+=1\n",
    "            if k==len(arr)-2:\n",
    "                answer_+=str(cnt)+arr[k]\n",
    "                cnt=1\n",
    "        else:\n",
    "            if cnt>1:\n",
    "                if k ==len(arr)-2:\n",
    "                    answer_+=str(cnt)+arr[k]+arr[k+1]\n",
    "                    cnt=1\n",
    "                else:\n",
    "                    answer_+=str(cnt)+arr[k]\n",
    "                    cnt=1\n",
    "            elif k ==len(arr)-2 :\n",
    "                answer_+=arr[k] +arr[k+1]\n",
    "            else:\n",
    "                answer_+=arr[k]\n",
    "    answer_leng.append(len(answer_))\n",
    "    print(arr)\n",
    "    print(answer_)\n",
    "    answer_ =''\n",
    "print(answer_leng)\n",
    "print(min(answer_leng))"
   ]
  },
  {
   "cell_type": "code",
   "execution_count": null,
   "metadata": {},
   "outputs": [],
   "source": []
  },
  {
   "cell_type": "code",
   "execution_count": null,
   "metadata": {},
   "outputs": [],
   "source": []
  }
 ],
 "metadata": {
  "kernelspec": {
   "display_name": "Python 3",
   "language": "python",
   "name": "python3"
  },
  "language_info": {
   "codemirror_mode": {
    "name": "ipython",
    "version": 3
   },
   "file_extension": ".py",
   "mimetype": "text/x-python",
   "name": "python",
   "nbconvert_exporter": "python",
   "pygments_lexer": "ipython3",
   "version": "3.7.6"
  }
 },
 "nbformat": 4,
 "nbformat_minor": 4
}

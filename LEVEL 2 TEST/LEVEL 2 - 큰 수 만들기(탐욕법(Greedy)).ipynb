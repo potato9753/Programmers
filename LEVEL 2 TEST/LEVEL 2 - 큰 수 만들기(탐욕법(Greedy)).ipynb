{
 "cells": [
  {
   "cell_type": "code",
   "execution_count": null,
   "metadata": {},
   "outputs": [],
   "source": [
    "def solution(number, k):\n",
    "    answer = ''\n",
    "    num = len(number)-k\n",
    "    start = 0\n",
    "    if k ==1:\n",
    "        if int(number[1:])>int(number[:len(number)-1]):\n",
    "            return number[1:]\n",
    "        else:\n",
    "            return number[:len(number)-1]\n",
    "    while(len(answer)!=len(number)-k):\n",
    "        comp = ''\n",
    "        if len(number)-k-len(answer) == len(number) - start:\n",
    "            answer += number[start:]\n",
    "            break\n",
    "        for i in range(start,len(number)-num+1):\n",
    "            if i==0:\n",
    "                comp = number[i]\n",
    "                start = i+1\n",
    "            elif comp<number[i]:\n",
    "                comp = number[i]\n",
    "                start = i+1\n",
    "            if comp == '9':\n",
    "                break\n",
    "        answer+=comp\n",
    "        num-=1\n",
    "    return answer"
   ]
  }
 ],
 "metadata": {
  "kernelspec": {
   "display_name": "Python 3",
   "language": "python",
   "name": "python3"
  },
  "language_info": {
   "codemirror_mode": {
    "name": "ipython",
    "version": 3
   },
   "file_extension": ".py",
   "mimetype": "text/x-python",
   "name": "python",
   "nbconvert_exporter": "python",
   "pygments_lexer": "ipython3",
   "version": "3.8.3"
  }
 },
 "nbformat": 4,
 "nbformat_minor": 4
}

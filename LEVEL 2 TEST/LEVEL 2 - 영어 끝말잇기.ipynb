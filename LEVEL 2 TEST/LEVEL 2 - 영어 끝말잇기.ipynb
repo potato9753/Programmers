{
 "cells": [
  {
   "cell_type": "code",
   "execution_count": null,
   "metadata": {},
   "outputs": [],
   "source": [
    "def solution(n, words):\n",
    "    list1=[]\n",
    "    turn = 1\n",
    "    answer = []\n",
    "    list1.append(words[0])\n",
    "    \n",
    "    for i in range(1,len(words)):\n",
    "        turn+=1\n",
    "        if words[i-1][-1] != words[i][0]:\n",
    "            break\n",
    "        elif words[i] in list1:\n",
    "            break\n",
    "        else:\n",
    "            list1.append(words[i])\n",
    "\n",
    "    if len(list1) == len(words):\n",
    "        answer = [0,0]\n",
    "    elif turn%n ==0:\n",
    "        answer.append(n)\n",
    "        answer.append(turn//n)\n",
    "    else:\n",
    "        answer.append(turn%n)\n",
    "        answer.append(int(turn/n)+1)            \n",
    "    return answer"
   ]
  }
 ],
 "metadata": {
  "kernelspec": {
   "display_name": "Python 3",
   "language": "python",
   "name": "python3"
  },
  "language_info": {
   "codemirror_mode": {
    "name": "ipython",
    "version": 3
   },
   "file_extension": ".py",
   "mimetype": "text/x-python",
   "name": "python",
   "nbconvert_exporter": "python",
   "pygments_lexer": "ipython3",
   "version": "3.8.3"
  }
 },
 "nbformat": 4,
 "nbformat_minor": 4
}

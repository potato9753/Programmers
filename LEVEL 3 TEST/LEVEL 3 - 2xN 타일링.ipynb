{
 "cells": [
  {
   "cell_type": "code",
   "execution_count": null,
   "metadata": {},
   "outputs": [],
   "source": [
    "def solution(n):\n",
    "    answer = 0\n",
    "    arr= [1,2]\n",
    "    a= 1\n",
    "    b= 2\n",
    "    \n",
    "    for i in range(2,n):\n",
    "        answer = a+b\n",
    "        a=b\n",
    "        b=answer\n",
    "        \n",
    "    return answer%1000000007"
   ]
  },
  {
   "cell_type": "markdown",
   "metadata": {},
   "source": [
    "# 시간초과 코드"
   ]
  },
  {
   "cell_type": "code",
   "execution_count": null,
   "metadata": {},
   "outputs": [],
   "source": [
    "from itertools import product\n",
    "\n",
    "def solution(n):\n",
    "    answer = 0\n",
    "    arr= [1,0]\n",
    "    c = list(product(arr,repeat = n))\n",
    "    for i in range(len(c)):\n",
    "        cnt = 0\n",
    "        pre = -1\n",
    "        for j in range(len(c[i])):\n",
    "            if c[i][j]==1:\n",
    "                cnt+=1\n",
    "                pre = 1\n",
    "            elif pre == 0:\n",
    "                pre=-1\n",
    "            else:\n",
    "                pre = 0\n",
    "                cnt+=2\n",
    "            if cnt>n:\n",
    "                break\n",
    "            elif cnt == n and j ==len(c[i])-1:\n",
    "                answer+=1\n",
    "    answer = answer%1000000007\n",
    "    return answer"
   ]
  },
  {
   "cell_type": "code",
   "execution_count": 266,
   "metadata": {},
   "outputs": [
    {
     "data": {
      "text/plain": [
       "(1, 2, 3, 5, 8)"
      ]
     },
     "execution_count": 266,
     "metadata": {},
     "output_type": "execute_result"
    }
   ],
   "source": [
    "1,2,3,5,8,13,21"
   ]
  },
  {
   "cell_type": "code",
   "execution_count": null,
   "metadata": {},
   "outputs": [],
   "source": []
  }
 ],
 "metadata": {
  "kernelspec": {
   "display_name": "Python 3",
   "language": "python",
   "name": "python3"
  },
  "language_info": {
   "codemirror_mode": {
    "name": "ipython",
    "version": 3
   },
   "file_extension": ".py",
   "mimetype": "text/x-python",
   "name": "python",
   "nbconvert_exporter": "python",
   "pygments_lexer": "ipython3",
   "version": "3.8.3"
  }
 },
 "nbformat": 4,
 "nbformat_minor": 4
}

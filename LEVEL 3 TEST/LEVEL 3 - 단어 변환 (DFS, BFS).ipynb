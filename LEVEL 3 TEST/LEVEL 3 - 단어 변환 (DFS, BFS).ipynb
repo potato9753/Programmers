{
 "cells": [
  {
   "cell_type": "code",
   "execution_count": null,
   "metadata": {},
   "outputs": [],
   "source": [
    "def comp(str1, str2):\n",
    "    cnt = 0\n",
    "    for i in range(len(str1)):\n",
    "        if str1[i] != str2[i]:\n",
    "             cnt +=1\n",
    "    return cnt\n",
    "\n",
    "\n",
    "def solution(begin, target, words):\n",
    "    answer = 0\n",
    "    if target not in words:\n",
    "        return 0\n",
    "    while True:\n",
    "        k = 0\n",
    "        while True:\n",
    "            if comp(begin,target) ==1:\n",
    "                answer+=1\n",
    "                begin = target\n",
    "                break\n",
    "            if comp(begin,words[k]) == 1 and comp(begin,target)>=comp(words[k],target):\n",
    "                begin = words[k]\n",
    "                words.pop(k)\n",
    "                answer+=1\n",
    "                break\n",
    "            else:\n",
    "                k+=1\n",
    "        if begin == target:\n",
    "            break\n",
    "    return answer"
   ]
  },
  {
   "cell_type": "code",
   "execution_count": 36,
   "metadata": {},
   "outputs": [],
   "source": [
    "from collections import defaultdict\n",
    "begin = 'hit'\n",
    "target = 'cog'\n",
    "words=['hot', 'dot', 'dog', 'lot', 'log', 'cog']\n",
    "dif = 0\n",
    "answer=0\n",
    "dic= defaultdict(bool)"
   ]
  },
  {
   "cell_type": "code",
   "execution_count": 37,
   "metadata": {},
   "outputs": [],
   "source": [
    "def comp(str1, str2):\n",
    "    cnt = 0\n",
    "    for i in range(len(str1)):\n",
    "        if str1[i] != str2[i]:\n",
    "             cnt +=1\n",
    "    return cnt"
   ]
  },
  {
   "cell_type": "code",
   "execution_count": 38,
   "metadata": {},
   "outputs": [
    {
     "name": "stdout",
     "output_type": "stream",
     "text": [
      "1 hot\n",
      "2 dot\n",
      "3 dog\n"
     ]
    }
   ],
   "source": [
    "while True:\n",
    "    k = 0\n",
    "    while True:\n",
    "        if comp(begin,target) ==1:\n",
    "            answer+=1\n",
    "            begin = target\n",
    "            break\n",
    "        if comp(begin,words[k]) == 1 and comp(begin,target)>=comp(words[k],target):\n",
    "            begin = words[k]\n",
    "            words.pop(k)\n",
    "            answer+=1\n",
    "            print(answer,begin)\n",
    "            break\n",
    "        else:\n",
    "            k+=1\n",
    "    if begin == target:\n",
    "        break"
   ]
  },
  {
   "cell_type": "code",
   "execution_count": 39,
   "metadata": {},
   "outputs": [
    {
     "name": "stdout",
     "output_type": "stream",
     "text": [
      "4\n"
     ]
    }
   ],
   "source": [
    "print(answer)"
   ]
  },
  {
   "cell_type": "code",
   "execution_count": 3,
   "metadata": {},
   "outputs": [],
   "source": [
    "def find(arr,start, str1, target,dic,count):\n",
    "    if comp(start,str1) != 1:\n",
    "        return\n",
    "    if comp(str1,target) == 0:\n",
    "        return count\n",
    "    dic[start] = True\n",
    "    dic[comp] = True\n",
    "    start = str1\n",
    "    count += 1\n",
    "    for i in arr:\n",
    "        if dic[i] == False and comp(i,target) < comp(start,target):\n",
    "            str1 = i\n",
    "            find(arr, start, str1, target,dic, count)"
   ]
  },
  {
   "cell_type": "code",
   "execution_count": 4,
   "metadata": {},
   "outputs": [],
   "source": [
    "for i in words:\n",
    "    dic= defaultdict(bool)\n",
    "    count = 0\n",
    "    count = find(words, begin, i, target, dic, count)\n",
    "    answer.append(count)"
   ]
  },
  {
   "cell_type": "code",
   "execution_count": 5,
   "metadata": {},
   "outputs": [
    {
     "name": "stdout",
     "output_type": "stream",
     "text": [
      "[None, None, None, None, None, None]\n"
     ]
    }
   ],
   "source": [
    "print(answer)"
   ]
  },
  {
   "cell_type": "code",
   "execution_count": null,
   "metadata": {},
   "outputs": [],
   "source": []
  }
 ],
 "metadata": {
  "kernelspec": {
   "display_name": "Python 3",
   "language": "python",
   "name": "python3"
  },
  "language_info": {
   "codemirror_mode": {
    "name": "ipython",
    "version": 3
   },
   "file_extension": ".py",
   "mimetype": "text/x-python",
   "name": "python",
   "nbconvert_exporter": "python",
   "pygments_lexer": "ipython3",
   "version": "3.7.6"
  }
 },
 "nbformat": 4,
 "nbformat_minor": 4
}

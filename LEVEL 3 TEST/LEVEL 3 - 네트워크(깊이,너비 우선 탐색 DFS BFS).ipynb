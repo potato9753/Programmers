{
 "cells": [
  {
   "cell_type": "code",
   "execution_count": null,
   "metadata": {},
   "outputs": [],
   "source": [
    "def dfs(arr, x,y):\n",
    "    if arr[x][y] == 0:\n",
    "        return\n",
    "    \n",
    "    arr[x][y] = 0\n",
    "    arr[y][x] = 0\n",
    "    temp=0\n",
    "    \n",
    "    for i in range(len(arr[y])):\n",
    "        if arr[y][i] == 0:\n",
    "            continue\n",
    "        else:\n",
    "            dfs(arr,y,i)\n",
    "\n",
    "def solution(n, computers):\n",
    "    network = 0\n",
    "    for i in range(len(computers)):\n",
    "        for j in range(len(computers[i])):\n",
    "            if computers[i][j] == 1:\n",
    "                dfs(computers, i,j)\n",
    "                network+=1\n",
    "    return network"
   ]
  }
 ],
 "metadata": {
  "kernelspec": {
   "display_name": "Python 3",
   "language": "python",
   "name": "python3"
  },
  "language_info": {
   "codemirror_mode": {
    "name": "ipython",
    "version": 3
   },
   "file_extension": ".py",
   "mimetype": "text/x-python",
   "name": "python",
   "nbconvert_exporter": "python",
   "pygments_lexer": "ipython3",
   "version": "3.7.6"
  }
 },
 "nbformat": 4,
 "nbformat_minor": 4
}

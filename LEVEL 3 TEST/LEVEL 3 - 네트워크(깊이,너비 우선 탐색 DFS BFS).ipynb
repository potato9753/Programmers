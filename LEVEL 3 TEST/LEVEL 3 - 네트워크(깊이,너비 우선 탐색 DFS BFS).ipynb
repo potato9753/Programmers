{
 "cells": [
  {
   "cell_type": "code",
   "execution_count": 42,
   "metadata": {},
   "outputs": [],
   "source": [
    "#n = 3 \n",
    "#computers = [[1, 1, 0], [1, 1, 0], [0, 0, 1]]\n",
    "n=4\n",
    "#computers = [[1, 0, 0, 1], [0, 1, 1, 0], [0, 1, 1, 0], [1, 1, 0, 1]]\n",
    "computers = [[1,1,1,1],[1,1,1,1],[1,1,1,1],[1,1,1,1]]\n",
    "network = []\n",
    "flag = 0\n",
    "self = 0"
   ]
  },
  {
   "cell_type": "code",
   "execution_count": 43,
   "metadata": {},
   "outputs": [
    {
     "name": "stdout",
     "output_type": "stream",
     "text": [
      "[0, 1] [[0, 0, 1, 1], [0, 1, 1, 1], [1, 1, 1, 1], [1, 1, 1, 1]]\n"
     ]
    },
    {
     "ename": "AttributeError",
     "evalue": "'int' object has no attribute 'count'",
     "output_type": "error",
     "traceback": [
      "\u001b[1;31m---------------------------------------------------------------------------\u001b[0m",
      "\u001b[1;31mAttributeError\u001b[0m                            Traceback (most recent call last)",
      "\u001b[1;32m<ipython-input-43-b6d2dab2a460>\u001b[0m in \u001b[0;36m<module>\u001b[1;34m\u001b[0m\n\u001b[0;32m     11\u001b[0m                 \u001b[1;32mif\u001b[0m \u001b[0mlen\u001b[0m\u001b[1;33m(\u001b[0m\u001b[0mnetwork_\u001b[0m\u001b[1;33m)\u001b[0m\u001b[1;33m>\u001b[0m\u001b[1;36m0\u001b[0m\u001b[1;33m:\u001b[0m\u001b[1;33m\u001b[0m\u001b[1;33m\u001b[0m\u001b[0m\n\u001b[0;32m     12\u001b[0m                     \u001b[1;32mfor\u001b[0m \u001b[0mt\u001b[0m \u001b[1;32min\u001b[0m \u001b[0mrange\u001b[0m\u001b[1;33m(\u001b[0m\u001b[0mlen\u001b[0m\u001b[1;33m(\u001b[0m\u001b[0mnetwork_\u001b[0m\u001b[1;33m)\u001b[0m\u001b[1;33m)\u001b[0m\u001b[1;33m:\u001b[0m\u001b[1;33m\u001b[0m\u001b[1;33m\u001b[0m\u001b[0m\n\u001b[1;32m---> 13\u001b[1;33m                         \u001b[1;32mif\u001b[0m \u001b[0mnetwork_\u001b[0m\u001b[1;33m[\u001b[0m\u001b[0mt\u001b[0m\u001b[1;33m]\u001b[0m\u001b[1;33m.\u001b[0m\u001b[0mcount\u001b[0m\u001b[1;33m(\u001b[0m\u001b[0mconnect\u001b[0m\u001b[1;33m[\u001b[0m\u001b[1;36m0\u001b[0m\u001b[1;33m]\u001b[0m\u001b[1;33m)\u001b[0m \u001b[1;33m>\u001b[0m\u001b[1;36m0\u001b[0m\u001b[1;33m:\u001b[0m\u001b[1;33m\u001b[0m\u001b[1;33m\u001b[0m\u001b[0m\n\u001b[0m\u001b[0;32m     14\u001b[0m                             \u001b[0mconnect\u001b[0m \u001b[1;33m=\u001b[0m \u001b[1;33m[\u001b[0m\u001b[1;33m]\u001b[0m\u001b[1;33m\u001b[0m\u001b[1;33m\u001b[0m\u001b[0m\n\u001b[0;32m     15\u001b[0m                             \u001b[1;32mbreak\u001b[0m\u001b[1;33m\u001b[0m\u001b[1;33m\u001b[0m\u001b[0m\n",
      "\u001b[1;31mAttributeError\u001b[0m: 'int' object has no attribute 'count'"
     ]
    }
   ],
   "source": [
    "for i in range(n):\n",
    "    while(True):\n",
    "        if flag ==0:\n",
    "            j = i\n",
    "            network_ = []\n",
    "        for k in range(len(computers[j])):\n",
    "            connect = []\n",
    "            if computers[j][k] == 1 and j!=k:\n",
    "                connect.append(j)\n",
    "                connect.append(k)\n",
    "                if len(network_)>0:\n",
    "                    for t in range(len(network_)):\n",
    "                        if network_[t].count(connect[0]) >0:\n",
    "                            connect = []\n",
    "                            break\n",
    "                        elif t == len(netsork_)-1:\n",
    "                            network_.extend(connect)  \n",
    "                else:\n",
    "                    network_.extend(connect)\n",
    "                computers[j][j] = 0\n",
    "                computers[j][k] = 0\n",
    "                computers[k][j] = 0\n",
    "                j = k\n",
    "                flag += 1\n",
    "                print(connect,computers)\n",
    "                break\n",
    "            elif flag >0:\n",
    "                computers[j][j] = 0\n",
    "                pass\n",
    "        if len(connect) == 0:\n",
    "            flag = 0\n",
    "            break\n",
    "    if len(network_)>0:\n",
    "        network.append(network_)\n",
    "print(network,computers)\n",
    "for i in range(len(computers)):\n",
    "    if computers[i][i] == 1:\n",
    "        self += 1 \n",
    "answer = len(network) + self\n",
    "print(answer)"
   ]
  },
  {
   "cell_type": "code",
   "execution_count": null,
   "metadata": {},
   "outputs": [],
   "source": [
    "for i in range(n):\n",
    "    while(True):\n",
    "        if flag ==0:\n",
    "            j = i\n",
    "            network_ = []\n",
    "        for k in range(len(computers[j])):\n",
    "            connect = []\n",
    "            if computers[j][k] == 1 and j!=k:\n",
    "                connect.append(j)\n",
    "                connect.append(k)\n",
    "                if len(network_\n",
    "                network_.append(connect)\n",
    "                computers[j][j] = 0\n",
    "                computers[j][k] = 0\n",
    "                computers[k][j] = 0\n",
    "                j = k\n",
    "                flag += 1\n",
    "                print(connect,computers)\n",
    "                break\n",
    "            elif flag >0:\n",
    "                computers[j][j] = 0\n",
    "                pass\n",
    "        if len(connect) == 0:\n",
    "            flag = 0\n",
    "            break\n",
    "    if len(network_)>0:\n",
    "        network.append(network_)\n",
    "print(network,computers)\n",
    "for i in range(len(computers)):\n",
    "    if computers[i][i] == 1:\n",
    "        self += 1 \n",
    "answer = len(network) + self\n",
    "print(answer)"
   ]
  },
  {
   "cell_type": "code",
   "execution_count": 26,
   "metadata": {},
   "outputs": [
    {
     "name": "stdout",
     "output_type": "stream",
     "text": [
      "[0, 1] [[0, 0, 1, 1], [0, 1, 1, 1], [1, 1, 1, 1], [1, 1, 1, 1]] 1\n",
      "[1, 2] [[0, 0, 1, 1], [0, 0, 0, 1], [1, 0, 1, 1], [1, 1, 1, 1]] 1\n",
      "[2, 0] [[0, 0, 0, 1], [0, 0, 0, 1], [0, 0, 0, 1], [1, 1, 1, 1]] 1\n",
      "[0, 3] [[0, 0, 0, 0], [0, 0, 0, 1], [0, 0, 0, 1], [0, 1, 1, 1]] 1\n",
      "[3, 1] [[0, 0, 0, 0], [0, 0, 0, 0], [0, 0, 0, 1], [0, 0, 1, 0]] 1\n",
      "[2, 3] [[0, 0, 0, 0], [0, 0, 0, 0], [0, 0, 0, 0], [0, 0, 0, 0]] 1\n",
      "[] [[0, 0, 0, 0], [0, 0, 0, 0], [0, 0, 0, 0], [0, 0, 0, 0]] 2\n",
      "0\n"
     ]
    }
   ],
   "source": [
    "for i in range(n):\n",
    "    while(True):\n",
    "        if flag ==0:\n",
    "            j = i\n",
    "            network_ = []\n",
    "        for k in range(len(computers[j])):\n",
    "            connect = []\n",
    "            if computers[j][k] == 1 and j!=k:\n",
    "                connect.append(j)\n",
    "                connect.append(k)\n",
    "                if len(connect) != 0:\n",
    "                    for k in range(len(network_)):\n",
    "                        for p in range(len(connect)):\n",
    "                            if connect[p] in network_:\n",
    "                                network_.extend(connect)\n",
    "                                break\n",
    "                else:\n",
    "                    network_.extend(connect)\n",
    "                #network_.append(j)\n",
    "                #network_.append(k)\n",
    "                computers[j][j] = 0\n",
    "                computers[j][k] = 0\n",
    "                computers[k][j] = 0\n",
    "                j = k\n",
    "                flag += 1\n",
    "                print(connect,computers,1)\n",
    "                break\n",
    "            elif flag >0:\n",
    "                computers[j][j] = 0\n",
    "                pass\n",
    "        if len(connect) == 0:\n",
    "            flag = 0\n",
    "            break\n",
    "    if len(network_)>0:\n",
    "        network.append(network_)\n",
    "print(network,computers,2)\n",
    "for i in range(len(computers)):\n",
    "    if computers[i][i] == 1:\n",
    "        self += 1 \n",
    "answer = len(network) + self\n",
    "print(answer)"
   ]
  },
  {
   "cell_type": "code",
   "execution_count": null,
   "metadata": {},
   "outputs": [],
   "source": []
  },
  {
   "cell_type": "code",
   "execution_count": 104,
   "metadata": {},
   "outputs": [
    {
     "name": "stdout",
     "output_type": "stream",
     "text": [
      "[0, 1] [[0, 0, 1, 1], [0, 1, 1, 1], [1, 1, 1, 1], [1, 1, 1, 1]]\n",
      "[1, 2] [[0, 0, 1, 1], [0, 0, 0, 1], [1, 0, 1, 1], [1, 1, 1, 1]]\n",
      "[2, 0] [[0, 0, 0, 1], [0, 0, 0, 1], [0, 0, 0, 1], [1, 1, 1, 1]]\n",
      "[0, 3] [[0, 0, 0, 0], [0, 0, 0, 1], [0, 0, 0, 1], [0, 1, 1, 1]]\n",
      "[3, 1] [[0, 0, 0, 0], [0, 0, 0, 0], [0, 0, 0, 1], [0, 0, 1, 0]]\n",
      "[2, 3] [[0, 0, 0, 0], [0, 0, 0, 0], [0, 0, 0, 0], [0, 0, 0, 0]]\n",
      "[[[0, 1], [1, 2], [2, 0], [0, 3], [3, 1]], [[2, 3]]] [[0, 0, 0, 0], [0, 0, 0, 0], [0, 0, 0, 0], [0, 0, 0, 0]]\n",
      "2\n"
     ]
    }
   ],
   "source": [
    "for i in range(n):\n",
    "    while(True):\n",
    "        if flag ==0:\n",
    "            j = i\n",
    "            network_ = []\n",
    "        for k in range(len(computers[j])):\n",
    "            connect = []\n",
    "            if computers[j][k] == 1 and j!=k:\n",
    "                connect.append(j)\n",
    "                connect.append(k)\n",
    "                network_.append(connect)\n",
    "                computers[j][j] = 0\n",
    "                computers[j][k] = 0\n",
    "                computers[k][j] = 0\n",
    "                j = k\n",
    "                flag += 1\n",
    "                print(connect,computers)\n",
    "                break\n",
    "            elif flag >0:\n",
    "                computers[j][j] = 0\n",
    "                pass\n",
    "        if len(connect) == 0:\n",
    "            flag = 0\n",
    "            break\n",
    "    if len(network_)>0:\n",
    "        network.append(network_)\n",
    "print(network,computers)\n",
    "for i in range(len(computers)):\n",
    "    if computers[i][i] == 1:\n",
    "        self += 1 \n",
    "answer = len(network) + self\n",
    "print(answer)"
   ]
  },
  {
   "cell_type": "code",
   "execution_count": 94,
   "metadata": {},
   "outputs": [
    {
     "ename": "KeyboardInterrupt",
     "evalue": "",
     "output_type": "error",
     "traceback": [
      "\u001b[1;31m---------------------------------------------------------------------------\u001b[0m",
      "\u001b[1;31mKeyboardInterrupt\u001b[0m                         Traceback (most recent call last)",
      "\u001b[1;32m<ipython-input-94-286c47fc22e2>\u001b[0m in \u001b[0;36m<module>\u001b[1;34m\u001b[0m\n\u001b[0;32m      7\u001b[0m         \u001b[0mconnect\u001b[0m\u001b[1;33m.\u001b[0m\u001b[0mappend\u001b[0m\u001b[1;33m(\u001b[0m\u001b[0mj\u001b[0m\u001b[1;33m)\u001b[0m\u001b[1;33m\u001b[0m\u001b[1;33m\u001b[0m\u001b[0m\n\u001b[0;32m      8\u001b[0m         \u001b[0mnetwork_\u001b[0m\u001b[1;33m.\u001b[0m\u001b[0mappend\u001b[0m\u001b[1;33m(\u001b[0m\u001b[0mconnect\u001b[0m\u001b[1;33m)\u001b[0m\u001b[1;33m\u001b[0m\u001b[1;33m\u001b[0m\u001b[0m\n\u001b[1;32m----> 9\u001b[1;33m     \u001b[1;32melif\u001b[0m \u001b[0mj\u001b[0m \u001b[1;33m==\u001b[0m \u001b[0mlen\u001b[0m\u001b[1;33m(\u001b[0m\u001b[0mcomputers\u001b[0m\u001b[1;33m[\u001b[0m\u001b[0mi\u001b[0m\u001b[1;33m]\u001b[0m\u001b[1;33m)\u001b[0m\u001b[1;33m:\u001b[0m\u001b[1;33m\u001b[0m\u001b[1;33m\u001b[0m\u001b[0m\n\u001b[0m\u001b[0;32m     10\u001b[0m         \u001b[0mi\u001b[0m\u001b[1;33m+=\u001b[0m\u001b[1;36m1\u001b[0m\u001b[1;33m\u001b[0m\u001b[1;33m\u001b[0m\u001b[0m\n\u001b[0;32m     11\u001b[0m     \u001b[1;32melse\u001b[0m\u001b[1;33m:\u001b[0m\u001b[1;33m\u001b[0m\u001b[1;33m\u001b[0m\u001b[0m\n",
      "\u001b[1;31mKeyboardInterrupt\u001b[0m: "
     ]
    }
   ],
   "source": [
    "while(True):\n",
    "    i=0\n",
    "    j=0\n",
    "    connect = []\n",
    "    if computers[i][j] == '1' and i!=j:\n",
    "        connect.append(i)\n",
    "        connect.append(j)\n",
    "        network_.append(connect)\n",
    "    elif j == len(computers[i]):\n",
    "        i+=1\n",
    "    else:\n",
    "        j+=1\n",
    "    network.append(network_)"
   ]
  },
  {
   "cell_type": "code",
   "execution_count": null,
   "metadata": {},
   "outputs": [],
   "source": [
    "for i in range(len(computers)):\n",
    "    for j in range(len(computers[i])):\n",
    "        network_ =[]\n",
    "        while(True):\n",
    "            connect = []\n",
    "            if computers[i][j] == '1' and i!=j:\n",
    "                connect.append(i)\n",
    "                connect.append(j)\n",
    "                network_.append(connect)\n",
    "                for k in \n",
    "            elif computers[i][j] == '0':\n",
    "                break\n",
    "        network.append(network_)\n",
    "        "
   ]
  }
 ],
 "metadata": {
  "kernelspec": {
   "display_name": "Python 3",
   "language": "python",
   "name": "python3"
  },
  "language_info": {
   "codemirror_mode": {
    "name": "ipython",
    "version": 3
   },
   "file_extension": ".py",
   "mimetype": "text/x-python",
   "name": "python",
   "nbconvert_exporter": "python",
   "pygments_lexer": "ipython3",
   "version": "3.8.3"
  }
 },
 "nbformat": 4,
 "nbformat_minor": 4
}

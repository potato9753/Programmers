{
 "cells": [
  {
   "cell_type": "code",
   "execution_count": 87,
   "metadata": {},
   "outputs": [],
   "source": [
    "genres = ['classic', 'pop', 'classic', 'classic', 'pop']\n",
    "plays = [500, 600, 150, 800, 2500]\n",
    "dic = {}\n",
    "dic_num={}\n",
    "num =[]\n",
    "answer = []"
   ]
  },
  {
   "cell_type": "code",
   "execution_count": 70,
   "metadata": {},
   "outputs": [
    {
     "name": "stdout",
     "output_type": "stream",
     "text": [
      "False\n"
     ]
    }
   ],
   "source": [
    "genres=[\"classic\",\"classic\",\"classic\",\"classic\",\"pop\"]\n",
    "plays=[500,150,800,800,2500]\n",
    "print(500 not in plays)"
   ]
  },
  {
   "cell_type": "code",
   "execution_count": null,
   "metadata": {},
   "outputs": [],
   "source": [
    "from collections import defaultdict\n",
    "    \n",
    "def solution(genres, plays):\n",
    "    answer = []\n",
    "\n",
    "    dic = defaultdict(list)\n",
    "\n",
    "    for i in range(len(plays)):\n",
    "        dic[genres[i]].append(plays[i])\n",
    "        dic[genres[i]].sort(reverse=True)\n",
    "    print(dic)\n",
    "\n",
    "    dic = sorted(dic.items(), reverse=True, key=lambda item: sum(item[1]))\n",
    "\n",
    "    for i in dic:\n",
    "        for j in range(len(i[1])):\n",
    "            if j==2:\n",
    "                break\n",
    "            k = 0\n",
    "            while True:\n",
    "\n",
    "                if genres[plays[k:].index(i[1][j])] == i[0] and plays[k:].index(i[1][j]) not in answer:\n",
    "                    answer.append(plays[k:].index(i[1][j])+k)\n",
    "                    k=0\n",
    "                    break\n",
    "                else:\n",
    "                    k = plays[k:].index(i[1][j])+1+k\n",
    "    return answer"
   ]
  },
  {
   "cell_type": "code",
   "execution_count": 90,
   "metadata": {},
   "outputs": [
    {
     "name": "stdout",
     "output_type": "stream",
     "text": [
      "defaultdict(<class 'list'>, {'classic': [800, 500, 150], 'pop': [2500, 600]})\n",
      "[('pop', [2500, 600]), ('classic', [800, 500, 150])]\n",
      "('pop', [2500, 600])\n",
      "0 4 [] 2500\n",
      "0 1 [4] 600\n",
      "('classic', [800, 500, 150])\n",
      "0 3 [4, 1] 800\n",
      "0 0 [4, 1, 3] 500\n"
     ]
    }
   ],
   "source": [
    "from collections import defaultdict\n",
    "\n",
    "answer = []\n",
    "\n",
    "dic = defaultdict(list)\n",
    "\n",
    "for i in range(len(plays)):\n",
    "    dic[genres[i]].append(plays[i])\n",
    "    dic[genres[i]].sort(reverse=True)\n",
    "print(dic)\n",
    "\n",
    "dic = sorted(dic.items(), reverse=True, key=lambda item: sum(item[1]))\n",
    "\n",
    "print(dic)\n",
    "for i in dic:\n",
    "    print(i)\n",
    "    for j in range(len(i[1])):\n",
    "        if j==2:\n",
    "            break\n",
    "        k = 0\n",
    "        while True:\n",
    "            \n",
    "            if genres[plays[k:].index(i[1][j])] == i[0] and plays[k:].index(i[1][j]) not in answer:\n",
    "                print(k,plays[k:].index(i[1][j]),answer,i[1][j])\n",
    "                answer.append(plays[k:].index(i[1][j])+k)\n",
    "                k=0\n",
    "                break\n",
    "            else:\n",
    "                k = plays[k:].index(i[1][j])+1+k"
   ]
  },
  {
   "cell_type": "code",
   "execution_count": 91,
   "metadata": {},
   "outputs": [
    {
     "name": "stdout",
     "output_type": "stream",
     "text": [
      "[4, 1, 3, 0]\n"
     ]
    }
   ],
   "source": [
    "print(answer)"
   ]
  },
  {
   "cell_type": "code",
   "execution_count": null,
   "metadata": {},
   "outputs": [],
   "source": []
  }
 ],
 "metadata": {
  "kernelspec": {
   "display_name": "Python 3",
   "language": "python",
   "name": "python3"
  },
  "language_info": {
   "codemirror_mode": {
    "name": "ipython",
    "version": 3
   },
   "file_extension": ".py",
   "mimetype": "text/x-python",
   "name": "python",
   "nbconvert_exporter": "python",
   "pygments_lexer": "ipython3",
   "version": "3.7.6"
  }
 },
 "nbformat": 4,
 "nbformat_minor": 4
}

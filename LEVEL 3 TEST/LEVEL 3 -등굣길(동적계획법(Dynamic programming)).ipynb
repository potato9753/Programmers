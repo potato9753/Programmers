{
 "cells": [
  {
   "cell_type": "code",
   "execution_count": null,
   "metadata": {},
   "outputs": [],
   "source": [
    "def solution(m, n, puddles):\n",
    "    answer = 0\n",
    "    board = []\n",
    "    \n",
    "    #보드 생성\n",
    "    for i in range(n):\n",
    "        arr=[]\n",
    "        for j in range(m):\n",
    "            arr.append(1)\n",
    "        board.append(arr)\n",
    "        \n",
    "    # 물웅덩이 생성   \n",
    "    if len(puddles)>0:\n",
    "        for i in range(len(puddles)):\n",
    "            board[puddles[i][1]-1][puddles[i][0]-1]=0\n",
    "            if puddles[i][1]-1 ==0:\n",
    "                for j in range(puddles[i][0]-1,m):\n",
    "                    board[0][j] = 0\n",
    "            if puddles[i][0]-1 == 0:\n",
    "                for j in range(puddles[i][1]-1,n):\n",
    "                    board[j][0] = 0\n",
    "    #물웅덩이 제외하고 모든 최단경로 구하기\n",
    "    for i in range(1,n):\n",
    "        for j in range(1,m):\n",
    "            if board[i][j] != 0:\n",
    "                board[i][j] =(board[i][j-1]+board[i-1][j])%1000000007\n",
    "            \n",
    "    return board[n-1][m-1]"
   ]
  }
 ],
 "metadata": {
  "kernelspec": {
   "display_name": "Python 3",
   "language": "python",
   "name": "python3"
  },
  "language_info": {
   "codemirror_mode": {
    "name": "ipython",
    "version": 3
   },
   "file_extension": ".py",
   "mimetype": "text/x-python",
   "name": "python",
   "nbconvert_exporter": "python",
   "pygments_lexer": "ipython3",
   "version": "3.8.3"
  }
 },
 "nbformat": 4,
 "nbformat_minor": 4
}

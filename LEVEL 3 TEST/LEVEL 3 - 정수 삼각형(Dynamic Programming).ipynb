{
 "cells": [
  {
   "cell_type": "code",
   "execution_count": 39,
   "metadata": {},
   "outputs": [],
   "source": [
    "from itertools import product\n",
    "from itertools import combinations\n",
    "triangle = [[7], [3, 8], [8, 1, 0], [2, 7, 4, 4], [4, 5, 2, 6, 5]]\n",
    "num = []"
   ]
  },
  {
   "cell_type": "code",
   "execution_count": 40,
   "metadata": {},
   "outputs": [],
   "source": [
    "for i in range(1,len(triangle)):\n",
    "    arr = []\n",
    "    for j in range(len(triangle[i])):\n",
    "        if i == 1:\n",
    "            arr.append(triangle[i][j] + triangle[i-1][0])\n",
    "        elif j==len(triangle[i])-1:\n",
    "            arr.append(triangle[i][j]+num[i-2][-1])\n",
    "        elif j==0:\n",
    "            arr.append(triangle[i][j]+num[i-2][0])\n",
    "        elif num[i-2][j]>num[i-2][j-1]:\n",
    "            arr.append(triangle[i][j]+num[i-2][j])\n",
    "        else:\n",
    "            arr.append(triangle[i][j]+num[i-2][j-1])\n",
    "    num.append(arr)"
   ]
  },
  {
   "cell_type": "code",
   "execution_count": 41,
   "metadata": {},
   "outputs": [
    {
     "name": "stdout",
     "output_type": "stream",
     "text": [
      "[[10, 15], [18, 16, 15], [20, 25, 20, 19], [24, 30, 27, 26, 24]]\n"
     ]
    }
   ],
   "source": [
    "print(num)"
   ]
  },
  {
   "cell_type": "code",
   "execution_count": null,
   "metadata": {},
   "outputs": [],
   "source": [
    "an"
   ]
  }
 ],
 "metadata": {
  "kernelspec": {
   "display_name": "Python 3",
   "language": "python",
   "name": "python3"
  },
  "language_info": {
   "codemirror_mode": {
    "name": "ipython",
    "version": 3
   },
   "file_extension": ".py",
   "mimetype": "text/x-python",
   "name": "python",
   "nbconvert_exporter": "python",
   "pygments_lexer": "ipython3",
   "version": "3.8.3"
  }
 },
 "nbformat": 4,
 "nbformat_minor": 4
}
